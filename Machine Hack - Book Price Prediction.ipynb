{
 "cells": [
  {
   "cell_type": "markdown",
   "metadata": {},
   "source": [
    "# Machine Hack  - Book Price Prediction (Final Score = 0.73)"
   ]
  },
  {
   "cell_type": "markdown",
   "metadata": {},
   "source": [
    "## Data Description\n",
    "\n",
    "The so-called paradoxes of an author, to which a reader takes exception, often exist not in the author's book at all, but rather in the reader's head. - Friedrich Nietzsche Books are open doors to the unimagined worlds which is unique to every person. It is more than just a hobby for many. There are many among us who prefer to spend more time with books than anything else. Here we explore a big database of books. Books of different genres, from thousands of authors. In this challenge, participants are required to use the dataset to build a Machine Learning model to predict the price of books based on a given set of features. \n",
    "\n",
    "**Size of training set:** 6237 records \n",
    "\n",
    "**Size of test set:** 1560 records \n",
    "\n",
    "**FEATURES:** \n",
    "\n",
    "   * Title:        The title of the book \n",
    "   * Author:       The author(s) of the book. \n",
    "   * Edition:      The edition of the book eg (Paperback,– Import, 26 Apr 2018) \n",
    "   * Reviews:      The customer reviews about the book \n",
    "   * Ratings:      The customer ratings of the book \n",
    "   * Synopsis:     The synopsis of the book \n",
    "   * Genre:        The genre the book belongs to \n",
    "   * BookCategory: The department the book is usually available at. \n",
    "   * Price:        The price of the book (Target variable)"
   ]
  },
  {
   "cell_type": "markdown",
   "metadata": {},
   "source": [
    "## Import packages and libraries"
   ]
  },
  {
   "cell_type": "code",
   "execution_count": 1,
   "metadata": {},
   "outputs": [],
   "source": [
    "import warnings\n",
    "warnings.filterwarnings('ignore')\n",
    "import pandas as pd\n",
    "import numpy as np\n",
    "import seaborn as sns\n",
    "import matplotlib.pyplot as plt\n",
    "import re\n",
    "\n",
    "from afinn import Afinn\n",
    "from sklearn.metrics import roc_curve, roc_auc_score, classification_report, f1_score,mean_squared_error\n",
    "from sklearn.model_selection import train_test_split, cross_val_score, GridSearchCV,  StratifiedKFold,KFold\n",
    "from sklearn.preprocessing import StandardScaler\n",
    "\n",
    "from sklearn.ensemble import RandomForestRegressor\n",
    "import xgboost as xgb"
   ]
  },
  {
   "cell_type": "markdown",
   "metadata": {},
   "source": [
    "**Load train and test datasets and sample submission file**"
   ]
  },
  {
   "cell_type": "code",
   "execution_count": 2,
   "metadata": {},
   "outputs": [],
   "source": [
    "train = pd.read_excel('/Users/louietran/Downloads/Machine Hack - Book Price Prediction/BookPrice_Train.xlsx')\n",
    "og = train.copy(deep=True)\n",
    "test = pd.read_excel('/Users/louietran/Downloads/Machine Hack - Book Price Prediction/BookPrice_Test.xlsx')\n"
   ]
  },
  {
   "cell_type": "code",
   "execution_count": 147,
   "metadata": {},
   "outputs": [],
   "source": [
    "submission = pd.read_excel('/Users/louietran/Downloads/Machine Hack - Book Price Prediction/BookPrice_Sample_Submission.xlsx')\n"
   ]
  },
  {
   "cell_type": "markdown",
   "metadata": {},
   "source": [
    "### Preliminary Analysis"
   ]
  },
  {
   "cell_type": "code",
   "execution_count": 227,
   "metadata": {},
   "outputs": [
    {
     "data": {
      "text/plain": [
       "(6237, 9)"
      ]
     },
     "execution_count": 227,
     "metadata": {},
     "output_type": "execute_result"
    }
   ],
   "source": [
    "train.shape"
   ]
  },
  {
   "cell_type": "code",
   "execution_count": 230,
   "metadata": {},
   "outputs": [
    {
     "data": {
      "text/html": [
       "<div>\n",
       "<style scoped>\n",
       "    .dataframe tbody tr th:only-of-type {\n",
       "        vertical-align: middle;\n",
       "    }\n",
       "\n",
       "    .dataframe tbody tr th {\n",
       "        vertical-align: top;\n",
       "    }\n",
       "\n",
       "    .dataframe thead th {\n",
       "        text-align: right;\n",
       "    }\n",
       "</style>\n",
       "<table border=\"1\" class=\"dataframe\">\n",
       "  <thead>\n",
       "    <tr style=\"text-align: right;\">\n",
       "      <th></th>\n",
       "      <th>Title</th>\n",
       "      <th>Author</th>\n",
       "      <th>Edition</th>\n",
       "      <th>Reviews</th>\n",
       "      <th>Ratings</th>\n",
       "      <th>Synopsis</th>\n",
       "      <th>Genre</th>\n",
       "      <th>BookCategory</th>\n",
       "      <th>Price</th>\n",
       "    </tr>\n",
       "  </thead>\n",
       "  <tbody>\n",
       "    <tr>\n",
       "      <th>0</th>\n",
       "      <td>The Prisoner's Gold (The Hunters 3)</td>\n",
       "      <td>Chris Kuzneski</td>\n",
       "      <td>Paperback,– 10 Mar 2016</td>\n",
       "      <td>4.0 out of 5 stars</td>\n",
       "      <td>8 customer reviews</td>\n",
       "      <td>THE HUNTERS return in their third brilliant no...</td>\n",
       "      <td>Action &amp; Adventure (Books)</td>\n",
       "      <td>Action &amp; Adventure</td>\n",
       "      <td>220.00</td>\n",
       "    </tr>\n",
       "    <tr>\n",
       "      <th>1</th>\n",
       "      <td>Guru Dutt: A Tragedy in Three Acts</td>\n",
       "      <td>Arun Khopkar</td>\n",
       "      <td>Paperback,– 7 Nov 2012</td>\n",
       "      <td>3.9 out of 5 stars</td>\n",
       "      <td>14 customer reviews</td>\n",
       "      <td>A layered portrait of a troubled genius for wh...</td>\n",
       "      <td>Cinema &amp; Broadcast (Books)</td>\n",
       "      <td>Biographies, Diaries &amp; True Accounts</td>\n",
       "      <td>202.93</td>\n",
       "    </tr>\n",
       "    <tr>\n",
       "      <th>2</th>\n",
       "      <td>Leviathan (Penguin Classics)</td>\n",
       "      <td>Thomas Hobbes</td>\n",
       "      <td>Paperback,– 25 Feb 1982</td>\n",
       "      <td>4.8 out of 5 stars</td>\n",
       "      <td>6 customer reviews</td>\n",
       "      <td>\"During the time men live without a common Pow...</td>\n",
       "      <td>International Relations</td>\n",
       "      <td>Humour</td>\n",
       "      <td>299.00</td>\n",
       "    </tr>\n",
       "    <tr>\n",
       "      <th>3</th>\n",
       "      <td>A Pocket Full of Rye (Miss Marple)</td>\n",
       "      <td>Agatha Christie</td>\n",
       "      <td>Paperback,– 5 Oct 2017</td>\n",
       "      <td>4.1 out of 5 stars</td>\n",
       "      <td>13 customer reviews</td>\n",
       "      <td>A handful of grain is found in the pocket of a...</td>\n",
       "      <td>Contemporary Fiction (Books)</td>\n",
       "      <td>Crime, Thriller &amp; Mystery</td>\n",
       "      <td>180.00</td>\n",
       "    </tr>\n",
       "    <tr>\n",
       "      <th>4</th>\n",
       "      <td>LIFE 70 Years of Extraordinary Photography</td>\n",
       "      <td>Editors of Life</td>\n",
       "      <td>Hardcover,– 10 Oct 2006</td>\n",
       "      <td>5.0 out of 5 stars</td>\n",
       "      <td>1 customer review</td>\n",
       "      <td>For seven decades, \"Life\" has been thrilling t...</td>\n",
       "      <td>Photography Textbooks</td>\n",
       "      <td>Arts, Film &amp; Photography</td>\n",
       "      <td>965.62</td>\n",
       "    </tr>\n",
       "  </tbody>\n",
       "</table>\n",
       "</div>"
      ],
      "text/plain": [
       "                                        Title           Author  \\\n",
       "0         The Prisoner's Gold (The Hunters 3)   Chris Kuzneski   \n",
       "1          Guru Dutt: A Tragedy in Three Acts     Arun Khopkar   \n",
       "2                Leviathan (Penguin Classics)    Thomas Hobbes   \n",
       "3          A Pocket Full of Rye (Miss Marple)  Agatha Christie   \n",
       "4  LIFE 70 Years of Extraordinary Photography  Editors of Life   \n",
       "\n",
       "                   Edition             Reviews              Ratings  \\\n",
       "0  Paperback,– 10 Mar 2016  4.0 out of 5 stars   8 customer reviews   \n",
       "1   Paperback,– 7 Nov 2012  3.9 out of 5 stars  14 customer reviews   \n",
       "2  Paperback,– 25 Feb 1982  4.8 out of 5 stars   6 customer reviews   \n",
       "3   Paperback,– 5 Oct 2017  4.1 out of 5 stars  13 customer reviews   \n",
       "4  Hardcover,– 10 Oct 2006  5.0 out of 5 stars    1 customer review   \n",
       "\n",
       "                                            Synopsis  \\\n",
       "0  THE HUNTERS return in their third brilliant no...   \n",
       "1  A layered portrait of a troubled genius for wh...   \n",
       "2  \"During the time men live without a common Pow...   \n",
       "3  A handful of grain is found in the pocket of a...   \n",
       "4  For seven decades, \"Life\" has been thrilling t...   \n",
       "\n",
       "                          Genre                          BookCategory   Price  \n",
       "0    Action & Adventure (Books)                    Action & Adventure  220.00  \n",
       "1    Cinema & Broadcast (Books)  Biographies, Diaries & True Accounts  202.93  \n",
       "2       International Relations                                Humour  299.00  \n",
       "3  Contemporary Fiction (Books)             Crime, Thriller & Mystery  180.00  \n",
       "4         Photography Textbooks              Arts, Film & Photography  965.62  "
      ]
     },
     "execution_count": 230,
     "metadata": {},
     "output_type": "execute_result"
    }
   ],
   "source": [
    "train.head()"
   ]
  },
  {
   "cell_type": "code",
   "execution_count": 231,
   "metadata": {},
   "outputs": [
    {
     "name": "stdout",
     "output_type": "stream",
     "text": [
      "<class 'pandas.core.frame.DataFrame'>\n",
      "RangeIndex: 6237 entries, 0 to 6236\n",
      "Data columns (total 9 columns):\n",
      " #   Column        Non-Null Count  Dtype  \n",
      "---  ------        --------------  -----  \n",
      " 0   Title         6237 non-null   object \n",
      " 1   Author        6237 non-null   object \n",
      " 2   Edition       6237 non-null   object \n",
      " 3   Reviews       6237 non-null   object \n",
      " 4   Ratings       6237 non-null   object \n",
      " 5   Synopsis      6237 non-null   object \n",
      " 6   Genre         6237 non-null   object \n",
      " 7   BookCategory  6237 non-null   object \n",
      " 8   Price         6237 non-null   float64\n",
      "dtypes: float64(1), object(8)\n",
      "memory usage: 438.7+ KB\n"
     ]
    }
   ],
   "source": [
    "train.info()"
   ]
  },
  {
   "cell_type": "code",
   "execution_count": 234,
   "metadata": {},
   "outputs": [
    {
     "data": {
      "text/html": [
       "<div>\n",
       "<style scoped>\n",
       "    .dataframe tbody tr th:only-of-type {\n",
       "        vertical-align: middle;\n",
       "    }\n",
       "\n",
       "    .dataframe tbody tr th {\n",
       "        vertical-align: top;\n",
       "    }\n",
       "\n",
       "    .dataframe thead th {\n",
       "        text-align: right;\n",
       "    }\n",
       "</style>\n",
       "<table border=\"1\" class=\"dataframe\">\n",
       "  <thead>\n",
       "    <tr style=\"text-align: right;\">\n",
       "      <th></th>\n",
       "      <th>Title</th>\n",
       "      <th>Author</th>\n",
       "      <th>Edition</th>\n",
       "      <th>Reviews</th>\n",
       "      <th>Ratings</th>\n",
       "      <th>Synopsis</th>\n",
       "      <th>Genre</th>\n",
       "      <th>BookCategory</th>\n",
       "    </tr>\n",
       "  </thead>\n",
       "  <tbody>\n",
       "    <tr>\n",
       "      <th>count</th>\n",
       "      <td>6237</td>\n",
       "      <td>6237</td>\n",
       "      <td>6237</td>\n",
       "      <td>6237</td>\n",
       "      <td>6237</td>\n",
       "      <td>6237</td>\n",
       "      <td>6237</td>\n",
       "      <td>6237</td>\n",
       "    </tr>\n",
       "    <tr>\n",
       "      <th>unique</th>\n",
       "      <td>5568</td>\n",
       "      <td>3679</td>\n",
       "      <td>3370</td>\n",
       "      <td>36</td>\n",
       "      <td>342</td>\n",
       "      <td>5549</td>\n",
       "      <td>345</td>\n",
       "      <td>11</td>\n",
       "    </tr>\n",
       "    <tr>\n",
       "      <th>top</th>\n",
       "      <td>A Game of Thrones (A Song of Ice and Fire)</td>\n",
       "      <td>Agatha Christie</td>\n",
       "      <td>Paperback,– 5 Oct 2017</td>\n",
       "      <td>5.0 out of 5 stars</td>\n",
       "      <td>1 customer review</td>\n",
       "      <td>A Tinkle Double Digest is two Tinkle Digests i...</td>\n",
       "      <td>Action &amp; Adventure (Books)</td>\n",
       "      <td>Action &amp; Adventure</td>\n",
       "    </tr>\n",
       "    <tr>\n",
       "      <th>freq</th>\n",
       "      <td>4</td>\n",
       "      <td>69</td>\n",
       "      <td>48</td>\n",
       "      <td>1375</td>\n",
       "      <td>1040</td>\n",
       "      <td>8</td>\n",
       "      <td>947</td>\n",
       "      <td>818</td>\n",
       "    </tr>\n",
       "  </tbody>\n",
       "</table>\n",
       "</div>"
      ],
      "text/plain": [
       "                                             Title           Author  \\\n",
       "count                                         6237             6237   \n",
       "unique                                        5568             3679   \n",
       "top     A Game of Thrones (A Song of Ice and Fire)  Agatha Christie   \n",
       "freq                                             4               69   \n",
       "\n",
       "                       Edition             Reviews            Ratings  \\\n",
       "count                     6237                6237               6237   \n",
       "unique                    3370                  36                342   \n",
       "top     Paperback,– 5 Oct 2017  5.0 out of 5 stars  1 customer review   \n",
       "freq                        48                1375               1040   \n",
       "\n",
       "                                                 Synopsis  \\\n",
       "count                                                6237   \n",
       "unique                                               5549   \n",
       "top     A Tinkle Double Digest is two Tinkle Digests i...   \n",
       "freq                                                    8   \n",
       "\n",
       "                             Genre        BookCategory  \n",
       "count                         6237                6237  \n",
       "unique                         345                  11  \n",
       "top     Action & Adventure (Books)  Action & Adventure  \n",
       "freq                           947                 818  "
      ]
     },
     "execution_count": 234,
     "metadata": {},
     "output_type": "execute_result"
    }
   ],
   "source": [
    "train.describe(exclude=np.number)"
   ]
  },
  {
   "cell_type": "code",
   "execution_count": 220,
   "metadata": {},
   "outputs": [
    {
     "data": {
      "text/plain": [
       "(1560, 8)"
      ]
     },
     "execution_count": 220,
     "metadata": {},
     "output_type": "execute_result"
    }
   ],
   "source": [
    "test.shape"
   ]
  },
  {
   "cell_type": "code",
   "execution_count": 221,
   "metadata": {},
   "outputs": [
    {
     "data": {
      "text/html": [
       "<div>\n",
       "<style scoped>\n",
       "    .dataframe tbody tr th:only-of-type {\n",
       "        vertical-align: middle;\n",
       "    }\n",
       "\n",
       "    .dataframe tbody tr th {\n",
       "        vertical-align: top;\n",
       "    }\n",
       "\n",
       "    .dataframe thead th {\n",
       "        text-align: right;\n",
       "    }\n",
       "</style>\n",
       "<table border=\"1\" class=\"dataframe\">\n",
       "  <thead>\n",
       "    <tr style=\"text-align: right;\">\n",
       "      <th></th>\n",
       "      <th>Title</th>\n",
       "      <th>Author</th>\n",
       "      <th>Edition</th>\n",
       "      <th>Reviews</th>\n",
       "      <th>Ratings</th>\n",
       "      <th>Synopsis</th>\n",
       "      <th>Genre</th>\n",
       "      <th>BookCategory</th>\n",
       "    </tr>\n",
       "  </thead>\n",
       "  <tbody>\n",
       "    <tr>\n",
       "      <th>0</th>\n",
       "      <td>The Complete Sherlock Holmes: 2 Boxes sets</td>\n",
       "      <td>Sir Arthur Conan Doyle</td>\n",
       "      <td>Mass Market Paperback,– 1 Oct 1986</td>\n",
       "      <td>4.4 out of 5 stars</td>\n",
       "      <td>960 customer reviews</td>\n",
       "      <td>A collection of entire body of work of the She...</td>\n",
       "      <td>Short Stories (Books)</td>\n",
       "      <td>Crime, Thriller &amp; Mystery</td>\n",
       "    </tr>\n",
       "    <tr>\n",
       "      <th>1</th>\n",
       "      <td>Learn Docker - Fundamentals of Docker 18.x: Ev...</td>\n",
       "      <td>Gabriel N. Schenker</td>\n",
       "      <td>Paperback,– Import, 26 Apr 2018</td>\n",
       "      <td>5.0 out of 5 stars</td>\n",
       "      <td>1 customer review</td>\n",
       "      <td>Enhance your software deployment workflow usin...</td>\n",
       "      <td>Operating Systems Textbooks</td>\n",
       "      <td>Computing, Internet &amp; Digital Media</td>\n",
       "    </tr>\n",
       "    <tr>\n",
       "      <th>2</th>\n",
       "      <td>Big Girl</td>\n",
       "      <td>Danielle Steel</td>\n",
       "      <td>Paperback,– 17 Mar 2011</td>\n",
       "      <td>5.0 out of 5 stars</td>\n",
       "      <td>4 customer reviews</td>\n",
       "      <td>'Watch out, world. Here I come!'\\nFor Victoria...</td>\n",
       "      <td>Romance (Books)</td>\n",
       "      <td>Romance</td>\n",
       "    </tr>\n",
       "    <tr>\n",
       "      <th>3</th>\n",
       "      <td>Think Python: How to Think Like a Computer Sci...</td>\n",
       "      <td>Allen B. Downey</td>\n",
       "      <td>Paperback,– 2016</td>\n",
       "      <td>4.1 out of 5 stars</td>\n",
       "      <td>11 customer reviews</td>\n",
       "      <td>If you want to learn how to program, working w...</td>\n",
       "      <td>Programming &amp; Software Development (Books)</td>\n",
       "      <td>Computing, Internet &amp; Digital Media</td>\n",
       "    </tr>\n",
       "    <tr>\n",
       "      <th>4</th>\n",
       "      <td>Oxford Word Skills: Advanced - Idioms &amp; Phrasa...</td>\n",
       "      <td>Redman Gairns</td>\n",
       "      <td>Paperback,– 26 Dec 2011</td>\n",
       "      <td>4.4 out of 5 stars</td>\n",
       "      <td>9 customer reviews</td>\n",
       "      <td>Learn and practise the verbs, prepositions and...</td>\n",
       "      <td>Linguistics (Books)</td>\n",
       "      <td>Language, Linguistics &amp; Writing</td>\n",
       "    </tr>\n",
       "  </tbody>\n",
       "</table>\n",
       "</div>"
      ],
      "text/plain": [
       "                                               Title                  Author  \\\n",
       "0         The Complete Sherlock Holmes: 2 Boxes sets  Sir Arthur Conan Doyle   \n",
       "1  Learn Docker - Fundamentals of Docker 18.x: Ev...     Gabriel N. Schenker   \n",
       "2                                           Big Girl          Danielle Steel   \n",
       "3  Think Python: How to Think Like a Computer Sci...         Allen B. Downey   \n",
       "4  Oxford Word Skills: Advanced - Idioms & Phrasa...           Redman Gairns   \n",
       "\n",
       "                              Edition             Reviews  \\\n",
       "0  Mass Market Paperback,– 1 Oct 1986  4.4 out of 5 stars   \n",
       "1     Paperback,– Import, 26 Apr 2018  5.0 out of 5 stars   \n",
       "2             Paperback,– 17 Mar 2011  5.0 out of 5 stars   \n",
       "3                    Paperback,– 2016  4.1 out of 5 stars   \n",
       "4             Paperback,– 26 Dec 2011  4.4 out of 5 stars   \n",
       "\n",
       "                Ratings                                           Synopsis  \\\n",
       "0  960 customer reviews  A collection of entire body of work of the She...   \n",
       "1     1 customer review  Enhance your software deployment workflow usin...   \n",
       "2    4 customer reviews  'Watch out, world. Here I come!'\\nFor Victoria...   \n",
       "3   11 customer reviews  If you want to learn how to program, working w...   \n",
       "4    9 customer reviews  Learn and practise the verbs, prepositions and...   \n",
       "\n",
       "                                        Genre  \\\n",
       "0                       Short Stories (Books)   \n",
       "1                 Operating Systems Textbooks   \n",
       "2                             Romance (Books)   \n",
       "3  Programming & Software Development (Books)   \n",
       "4                         Linguistics (Books)   \n",
       "\n",
       "                          BookCategory  \n",
       "0            Crime, Thriller & Mystery  \n",
       "1  Computing, Internet & Digital Media  \n",
       "2                              Romance  \n",
       "3  Computing, Internet & Digital Media  \n",
       "4      Language, Linguistics & Writing  "
      ]
     },
     "execution_count": 221,
     "metadata": {},
     "output_type": "execute_result"
    }
   ],
   "source": [
    "test.head()"
   ]
  },
  {
   "cell_type": "code",
   "execution_count": 224,
   "metadata": {},
   "outputs": [
    {
     "name": "stdout",
     "output_type": "stream",
     "text": [
      "<class 'pandas.core.frame.DataFrame'>\n",
      "RangeIndex: 1560 entries, 0 to 1559\n",
      "Data columns (total 8 columns):\n",
      " #   Column        Non-Null Count  Dtype \n",
      "---  ------        --------------  ----- \n",
      " 0   Title         1560 non-null   object\n",
      " 1   Author        1560 non-null   object\n",
      " 2   Edition       1560 non-null   object\n",
      " 3   Reviews       1560 non-null   object\n",
      " 4   Ratings       1560 non-null   object\n",
      " 5   Synopsis      1560 non-null   object\n",
      " 6   Genre         1560 non-null   object\n",
      " 7   BookCategory  1560 non-null   object\n",
      "dtypes: object(8)\n",
      "memory usage: 97.6+ KB\n"
     ]
    }
   ],
   "source": [
    "test.info()"
   ]
  },
  {
   "cell_type": "code",
   "execution_count": 225,
   "metadata": {},
   "outputs": [
    {
     "data": {
      "text/html": [
       "<div>\n",
       "<style scoped>\n",
       "    .dataframe tbody tr th:only-of-type {\n",
       "        vertical-align: middle;\n",
       "    }\n",
       "\n",
       "    .dataframe tbody tr th {\n",
       "        vertical-align: top;\n",
       "    }\n",
       "\n",
       "    .dataframe thead th {\n",
       "        text-align: right;\n",
       "    }\n",
       "</style>\n",
       "<table border=\"1\" class=\"dataframe\">\n",
       "  <thead>\n",
       "    <tr style=\"text-align: right;\">\n",
       "      <th></th>\n",
       "      <th>Title</th>\n",
       "      <th>Author</th>\n",
       "      <th>Edition</th>\n",
       "      <th>Reviews</th>\n",
       "      <th>Ratings</th>\n",
       "      <th>Synopsis</th>\n",
       "      <th>Genre</th>\n",
       "      <th>BookCategory</th>\n",
       "    </tr>\n",
       "  </thead>\n",
       "  <tbody>\n",
       "    <tr>\n",
       "      <th>count</th>\n",
       "      <td>1560</td>\n",
       "      <td>1560</td>\n",
       "      <td>1560</td>\n",
       "      <td>1560</td>\n",
       "      <td>1560</td>\n",
       "      <td>1560</td>\n",
       "      <td>1560</td>\n",
       "      <td>1560</td>\n",
       "    </tr>\n",
       "    <tr>\n",
       "      <th>unique</th>\n",
       "      <td>1521</td>\n",
       "      <td>1224</td>\n",
       "      <td>1259</td>\n",
       "      <td>30</td>\n",
       "      <td>163</td>\n",
       "      <td>1519</td>\n",
       "      <td>225</td>\n",
       "      <td>11</td>\n",
       "    </tr>\n",
       "    <tr>\n",
       "      <th>top</th>\n",
       "      <td>The Five Greatest Warriors (Jack West Series)</td>\n",
       "      <td>Agatha Christie</td>\n",
       "      <td>Paperback,– 5 Oct 2017</td>\n",
       "      <td>5.0 out of 5 stars</td>\n",
       "      <td>1 customer review</td>\n",
       "      <td>A Guardian Pick for 2019\\nThe People vs. Putin...</td>\n",
       "      <td>Action &amp; Adventure (Books)</td>\n",
       "      <td>Action &amp; Adventure</td>\n",
       "    </tr>\n",
       "    <tr>\n",
       "      <th>freq</th>\n",
       "      <td>3</td>\n",
       "      <td>18</td>\n",
       "      <td>12</td>\n",
       "      <td>376</td>\n",
       "      <td>288</td>\n",
       "      <td>3</td>\n",
       "      <td>236</td>\n",
       "      <td>218</td>\n",
       "    </tr>\n",
       "  </tbody>\n",
       "</table>\n",
       "</div>"
      ],
      "text/plain": [
       "                                                Title           Author  \\\n",
       "count                                            1560             1560   \n",
       "unique                                           1521             1224   \n",
       "top     The Five Greatest Warriors (Jack West Series)  Agatha Christie   \n",
       "freq                                                3               18   \n",
       "\n",
       "                       Edition             Reviews            Ratings  \\\n",
       "count                     1560                1560               1560   \n",
       "unique                    1259                  30                163   \n",
       "top     Paperback,– 5 Oct 2017  5.0 out of 5 stars  1 customer review   \n",
       "freq                        12                 376                288   \n",
       "\n",
       "                                                 Synopsis  \\\n",
       "count                                                1560   \n",
       "unique                                               1519   \n",
       "top     A Guardian Pick for 2019\\nThe People vs. Putin...   \n",
       "freq                                                    3   \n",
       "\n",
       "                             Genre        BookCategory  \n",
       "count                         1560                1560  \n",
       "unique                         225                  11  \n",
       "top     Action & Adventure (Books)  Action & Adventure  \n",
       "freq                           236                 218  "
      ]
     },
     "execution_count": 225,
     "metadata": {},
     "output_type": "execute_result"
    }
   ],
   "source": [
    "test.describe()"
   ]
  },
  {
   "cell_type": "markdown",
   "metadata": {},
   "source": [
    "## Initial Impression\n",
    "\n",
    "   1. Both train and test datasets don't have missing values. \n",
    "    \n",
    "   2. There are a lot of information to unpack from the current features of the dataset:\n",
    "    \n",
    "        * A book can have multiple authors, genres and categories. Therefore, a question can be asked here is that do the amount of co-authors the books have and the total genres and categories they belong to have any thing to do with their prices?\n",
    "        \n",
    "        * The **Edition** column has three types of information to extract:  1. The type of the book (Hardcover, Paperback, etc.). 2. Any special features the book has(Import, Limited Edition, etc.) 3. When the book was published \n",
    "        \n",
    "        * Columns **Reviews** and **Ratings** are labeled wrong\n",
    "        \n",
    "        * Does the sentiment of a book's synopsis and title affects its price?\n",
    "        \n",
    "        * What should be done to data points which have similar to exact information? \n",
    "        "
   ]
  },
  {
   "cell_type": "markdown",
   "metadata": {},
   "source": [
    "## 1. Data Cleaning"
   ]
  },
  {
   "cell_type": "markdown",
   "metadata": {},
   "source": [
    "**Convert string to numeric data**"
   ]
  },
  {
   "cell_type": "code",
   "execution_count": 3,
   "metadata": {},
   "outputs": [],
   "source": [
    "def string_to_num(data):\n",
    "    for index, row in data.iterrows():\n",
    "        data.loc[index,'Average Rating'] = float(''.join(re.findall(\"[0-9].[0-9]\", data.loc[index,'Reviews'])))\n",
    "        data.loc[index,'Total Reviews'] = float(''.join(re.findall(\"[0-9]\", data.loc[index,'Ratings'])))"
   ]
  },
  {
   "cell_type": "markdown",
   "metadata": {},
   "source": [
    "**Count number of authors per book**"
   ]
  },
  {
   "cell_type": "code",
   "execution_count": 4,
   "metadata": {},
   "outputs": [
    {
     "name": "stdout",
     "output_type": "stream",
     "text": [
      "7\n"
     ]
    }
   ],
   "source": [
    "authors_list_1 = list(train.Author)\n",
    "authors_list_2 = list(test.Author)\n",
    "\n",
    "authors_list_1.extend(authors_list_2)\n",
    "authors_list = [i.split(\",\") for i in authors_list_1]\n",
    "\n",
    "Max = 1\n",
    "for i in authors_list:\n",
    "  if len(i) >= Max:\n",
    "    Max = len(i)\n",
    "print(Max)"
   ]
  },
  {
   "cell_type": "code",
   "execution_count": 5,
   "metadata": {},
   "outputs": [],
   "source": [
    "def count_authors(data):\n",
    "    data['Author'] = data.apply(lambda x: x['Author'].split(',',6),axis=1)\n",
    "    data['Total Authors'] = [len(i) for i in data['Author']]"
   ]
  },
  {
   "cell_type": "markdown",
   "metadata": {},
   "source": [
    "**Separate Edition Column**"
   ]
  },
  {
   "cell_type": "code",
   "execution_count": 6,
   "metadata": {},
   "outputs": [
    {
     "name": "stdout",
     "output_type": "stream",
     "text": [
      "4\n"
     ]
    }
   ],
   "source": [
    "edition_list_1 = list(train.Edition)\n",
    "edition_list_2 = list(test.Edition)\n",
    "\n",
    "edition_list_1.extend(edition_list_2)\n",
    "edition_list = [i.split(\",\") for i in edition_list_1]\n",
    "\n",
    "maximum = 1\n",
    "for i in edition_list:\n",
    "  if len(i) >= maximum:\n",
    "    maximum = len(i)\n",
    "print(maximum)"
   ]
  },
  {
   "cell_type": "markdown",
   "metadata": {},
   "source": [
    "**Convert string to date**"
   ]
  },
  {
   "cell_type": "code",
   "execution_count": 7,
   "metadata": {},
   "outputs": [],
   "source": [
    "def to_datetime(data):\n",
    "    for index,row in data.iterrows():\n",
    "        data.loc[index,'Publication Time'] = pd.to_datetime(data.loc[index,'Publication Time'],format='%d %b %Y',errors='coerce') "
   ]
  },
  {
   "cell_type": "markdown",
   "metadata": {},
   "source": [
    "**Split Edition Column**"
   ]
  },
  {
   "cell_type": "code",
   "execution_count": 8,
   "metadata": {},
   "outputs": [],
   "source": [
    "def split_edition(data):\n",
    "    data['Edition'] = data.apply(lambda x: x['Edition'].split(',',3),axis=1)\n",
    "    for index, row in data.iterrows():\n",
    "        data.loc[index,'Type'] = data.loc[index,'Edition'][0]\n",
    "        data.loc[index,'Publication Time'] = data.loc[index,'Edition'][-1]\n",
    "        data['Publication Time'] = data['Publication Time'].str.replace('– ','')\n",
    "        if len(data.loc[index,'Edition']) > 2:\n",
    "            data.loc[index,'Special Features'] = 1\n",
    "        else: \n",
    "            data.loc[index,'Special Features'] = 0\n",
    "            \n",
    "    data.Type = ['Paperback' if 'Paperback' in Type \n",
    "                                 else 'Hardcover' if 'Hardcover' in Type\n",
    "                                     else 'Others'\n",
    "                                         for Type in data.Type ]"
   ]
  },
  {
   "cell_type": "markdown",
   "metadata": {},
   "source": [
    "**Count total genres**"
   ]
  },
  {
   "cell_type": "code",
   "execution_count": 9,
   "metadata": {},
   "outputs": [
    {
     "name": "stdout",
     "output_type": "stream",
     "text": [
      "2\n"
     ]
    }
   ],
   "source": [
    "genre_list_1 = list(train.Genre)\n",
    "genre_list_2 = list(test.Genre)\n",
    "\n",
    "genre_list_1.extend(genre_list_2)\n",
    "genre_list = [i.split(\",\") for i in genre_list_1]\n",
    "\n",
    "m = 1\n",
    "for i in genre_list:\n",
    "  if len(i) >= m:\n",
    "    m = len(i)\n",
    "print(m)"
   ]
  },
  {
   "cell_type": "code",
   "execution_count": 10,
   "metadata": {},
   "outputs": [],
   "source": [
    "def count_genre(data):\n",
    "    data['Genre'] = data.apply(lambda x: x['Genre'].split(',',1),axis=1)\n",
    "    for index, row in data.iterrows():\n",
    "        data.loc[index,'Total Genres'] = len(data.loc[index,'Genre'])\n",
    "    "
   ]
  },
  {
   "cell_type": "markdown",
   "metadata": {},
   "source": [
    "**Sentiment Analysis**"
   ]
  },
  {
   "cell_type": "code",
   "execution_count": 11,
   "metadata": {},
   "outputs": [],
   "source": [
    "def sentiment_score(data):\n",
    "    af = Afinn()\n",
    "    syn_sentiment = [af.score(syn) for syn in data['Synopsis']]\n",
    "    syn_sentiment = ['positive' if score > 0 \n",
    "                          else 'negative' if score < 0 \n",
    "                              else 'neutral' \n",
    "                                  for score in syn_sentiment]\n",
    "    title_sentiment = [af.score(title) for title in data['Title']]\n",
    "    title_sentiment = ['positive' if score > 0 \n",
    "                          else 'negative' if score < 0 \n",
    "                              else 'neutral' \n",
    "                                  for score in title_sentiment]\n",
    "    return(syn_sentiment,title_sentiment)\n",
    "    "
   ]
  },
  {
   "cell_type": "markdown",
   "metadata": {},
   "source": [
    "**Split Category Column**"
   ]
  },
  {
   "cell_type": "code",
   "execution_count": 12,
   "metadata": {},
   "outputs": [
    {
     "name": "stdout",
     "output_type": "stream",
     "text": [
      "Max. number of Categories for a single boook =  2\n"
     ]
    }
   ],
   "source": [
    "#Identifying the maximum number of Categories for a single book from the given datasets\n",
    "\n",
    "cat_1 = list(train['BookCategory'])\n",
    "cat_2 = list(test['BookCategory'])\n",
    "\n",
    "cat_1.extend(cat_2)\n",
    "cat_lis = [i.split(\",\") for i in cat_1]\n",
    "\n",
    "max = 1\n",
    "for i in cat_lis:\n",
    "  if len(i) >= max:\n",
    "    max = len(i)\n",
    "print(\"Max. number of Categories for a single boook = \",max)\n",
    "\n",
    "all_categories = [cat.strip().upper() for listin in cat_lis for cat in listin]"
   ]
  },
  {
   "cell_type": "code",
   "execution_count": 13,
   "metadata": {},
   "outputs": [],
   "source": [
    "def split_categories(data):\n",
    "  cat = list(data)\n",
    "  C1 = []\n",
    "  C2 = []\n",
    "  for i in cat:\n",
    "    try :\n",
    "      C1.append(i.split(',')[0].strip().upper())\n",
    "    except :\n",
    "      C1.append('NONE')\n",
    "    try :\n",
    "      C2.append(i.split(',')[1].strip().upper())\n",
    "    except :\n",
    "      C2.append('NONE')\n",
    "  return C1,C2\n",
    "  \n",
    "all_categories.append('NONE')"
   ]
  },
  {
   "cell_type": "markdown",
   "metadata": {},
   "source": [
    "**Comebine all functions into one**"
   ]
  },
  {
   "cell_type": "code",
   "execution_count": 14,
   "metadata": {},
   "outputs": [],
   "source": [
    "def data_transformer(data):\n",
    "    #Cleaning reviews and ratings columns\n",
    "    string_to_num(data)\n",
    "    \n",
    "    #Count total authors\n",
    "    data['Author'] = data.apply(lambda x: x['Author'].split(',',6),axis=1)\n",
    "    data['Total Authors'] = [len(i) for i in data['Author']]\n",
    "    \n",
    "    #Split Edition column\n",
    "    split_edition(data)\n",
    "    \n",
    "    #Convert to datetime\n",
    "    to_datetime(data)\n",
    "    data['Month'] = [i.month for i in data['Publication Time']]\n",
    "    data['Year'] = [i.year for i in data['Publication Time']]\n",
    "    \n",
    "    #Count total genre\n",
    "    count_genre(data)\n",
    "    \n",
    "    #Sentiment of Synopsis and title columns\n",
    "    syn_sentiment,title_sentiment = sentiment_score(data)\n",
    "    data['Synopsis Sentiment'] = syn_sentiment\n",
    "    data['Title Sentiment'] = title_sentiment\n",
    "    \n",
    "    #Split categories\n",
    "    c1,c2 = split_categories(data['BookCategory'])\n",
    "    data['Category_1'] = c1\n",
    "    data['Category_2'] = c2\n",
    "    \n",
    "    return data\n",
    "    "
   ]
  },
  {
   "cell_type": "code",
   "execution_count": 15,
   "metadata": {},
   "outputs": [],
   "source": [
    "train = data_transformer(train)"
   ]
  },
  {
   "cell_type": "code",
   "execution_count": 17,
   "metadata": {},
   "outputs": [
    {
     "data": {
      "text/html": [
       "<div>\n",
       "<style scoped>\n",
       "    .dataframe tbody tr th:only-of-type {\n",
       "        vertical-align: middle;\n",
       "    }\n",
       "\n",
       "    .dataframe tbody tr th {\n",
       "        vertical-align: top;\n",
       "    }\n",
       "\n",
       "    .dataframe thead th {\n",
       "        text-align: right;\n",
       "    }\n",
       "</style>\n",
       "<table border=\"1\" class=\"dataframe\">\n",
       "  <thead>\n",
       "    <tr style=\"text-align: right;\">\n",
       "      <th></th>\n",
       "      <th>Title</th>\n",
       "      <th>Author</th>\n",
       "      <th>Edition</th>\n",
       "      <th>Reviews</th>\n",
       "      <th>Ratings</th>\n",
       "      <th>Synopsis</th>\n",
       "      <th>Genre</th>\n",
       "      <th>BookCategory</th>\n",
       "      <th>Price</th>\n",
       "      <th>Average Rating</th>\n",
       "      <th>...</th>\n",
       "      <th>Type</th>\n",
       "      <th>Publication Time</th>\n",
       "      <th>Special Features</th>\n",
       "      <th>Month</th>\n",
       "      <th>Year</th>\n",
       "      <th>Total Genres</th>\n",
       "      <th>Synopsis Sentiment</th>\n",
       "      <th>Title Sentiment</th>\n",
       "      <th>Category_1</th>\n",
       "      <th>Category_2</th>\n",
       "    </tr>\n",
       "  </thead>\n",
       "  <tbody>\n",
       "    <tr>\n",
       "      <th>0</th>\n",
       "      <td>The Prisoner's Gold (The Hunters 3)</td>\n",
       "      <td>[Chris Kuzneski]</td>\n",
       "      <td>[Paperback, – 10 Mar 2016]</td>\n",
       "      <td>4.0 out of 5 stars</td>\n",
       "      <td>8 customer reviews</td>\n",
       "      <td>THE HUNTERS return in their third brilliant no...</td>\n",
       "      <td>[Action &amp; Adventure (Books)]</td>\n",
       "      <td>Action &amp; Adventure</td>\n",
       "      <td>220.00</td>\n",
       "      <td>4.0</td>\n",
       "      <td>...</td>\n",
       "      <td>Paperback</td>\n",
       "      <td>2016-03-10 00:00:00</td>\n",
       "      <td>0.0</td>\n",
       "      <td>3.0</td>\n",
       "      <td>2016.0</td>\n",
       "      <td>1.0</td>\n",
       "      <td>positive</td>\n",
       "      <td>neutral</td>\n",
       "      <td>ACTION &amp; ADVENTURE</td>\n",
       "      <td>NONE</td>\n",
       "    </tr>\n",
       "    <tr>\n",
       "      <th>1</th>\n",
       "      <td>Guru Dutt: A Tragedy in Three Acts</td>\n",
       "      <td>[Arun Khopkar]</td>\n",
       "      <td>[Paperback, – 7 Nov 2012]</td>\n",
       "      <td>3.9 out of 5 stars</td>\n",
       "      <td>14 customer reviews</td>\n",
       "      <td>A layered portrait of a troubled genius for wh...</td>\n",
       "      <td>[Cinema &amp; Broadcast (Books)]</td>\n",
       "      <td>Biographies, Diaries &amp; True Accounts</td>\n",
       "      <td>202.93</td>\n",
       "      <td>3.9</td>\n",
       "      <td>...</td>\n",
       "      <td>Paperback</td>\n",
       "      <td>2012-11-07 00:00:00</td>\n",
       "      <td>0.0</td>\n",
       "      <td>11.0</td>\n",
       "      <td>2012.0</td>\n",
       "      <td>1.0</td>\n",
       "      <td>positive</td>\n",
       "      <td>negative</td>\n",
       "      <td>BIOGRAPHIES</td>\n",
       "      <td>DIARIES &amp; TRUE ACCOUNTS</td>\n",
       "    </tr>\n",
       "    <tr>\n",
       "      <th>2</th>\n",
       "      <td>Leviathan (Penguin Classics)</td>\n",
       "      <td>[Thomas Hobbes]</td>\n",
       "      <td>[Paperback, – 25 Feb 1982]</td>\n",
       "      <td>4.8 out of 5 stars</td>\n",
       "      <td>6 customer reviews</td>\n",
       "      <td>\"During the time men live without a common Pow...</td>\n",
       "      <td>[International Relations]</td>\n",
       "      <td>Humour</td>\n",
       "      <td>299.00</td>\n",
       "      <td>4.8</td>\n",
       "      <td>...</td>\n",
       "      <td>Paperback</td>\n",
       "      <td>1982-02-25 00:00:00</td>\n",
       "      <td>0.0</td>\n",
       "      <td>2.0</td>\n",
       "      <td>1982.0</td>\n",
       "      <td>1.0</td>\n",
       "      <td>positive</td>\n",
       "      <td>neutral</td>\n",
       "      <td>HUMOUR</td>\n",
       "      <td>NONE</td>\n",
       "    </tr>\n",
       "    <tr>\n",
       "      <th>3</th>\n",
       "      <td>A Pocket Full of Rye (Miss Marple)</td>\n",
       "      <td>[Agatha Christie]</td>\n",
       "      <td>[Paperback, – 5 Oct 2017]</td>\n",
       "      <td>4.1 out of 5 stars</td>\n",
       "      <td>13 customer reviews</td>\n",
       "      <td>A handful of grain is found in the pocket of a...</td>\n",
       "      <td>[Contemporary Fiction (Books)]</td>\n",
       "      <td>Crime, Thriller &amp; Mystery</td>\n",
       "      <td>180.00</td>\n",
       "      <td>4.1</td>\n",
       "      <td>...</td>\n",
       "      <td>Paperback</td>\n",
       "      <td>2017-10-05 00:00:00</td>\n",
       "      <td>0.0</td>\n",
       "      <td>10.0</td>\n",
       "      <td>2017.0</td>\n",
       "      <td>1.0</td>\n",
       "      <td>negative</td>\n",
       "      <td>negative</td>\n",
       "      <td>CRIME</td>\n",
       "      <td>THRILLER &amp; MYSTERY</td>\n",
       "    </tr>\n",
       "    <tr>\n",
       "      <th>4</th>\n",
       "      <td>LIFE 70 Years of Extraordinary Photography</td>\n",
       "      <td>[Editors of Life]</td>\n",
       "      <td>[Hardcover, – 10 Oct 2006]</td>\n",
       "      <td>5.0 out of 5 stars</td>\n",
       "      <td>1 customer review</td>\n",
       "      <td>For seven decades, \"Life\" has been thrilling t...</td>\n",
       "      <td>[Photography Textbooks]</td>\n",
       "      <td>Arts, Film &amp; Photography</td>\n",
       "      <td>965.62</td>\n",
       "      <td>5.0</td>\n",
       "      <td>...</td>\n",
       "      <td>Hardcover</td>\n",
       "      <td>2006-10-10 00:00:00</td>\n",
       "      <td>0.0</td>\n",
       "      <td>10.0</td>\n",
       "      <td>2006.0</td>\n",
       "      <td>1.0</td>\n",
       "      <td>positive</td>\n",
       "      <td>neutral</td>\n",
       "      <td>ARTS</td>\n",
       "      <td>FILM &amp; PHOTOGRAPHY</td>\n",
       "    </tr>\n",
       "  </tbody>\n",
       "</table>\n",
       "<p>5 rows × 22 columns</p>\n",
       "</div>"
      ],
      "text/plain": [
       "                                        Title             Author  \\\n",
       "0         The Prisoner's Gold (The Hunters 3)   [Chris Kuzneski]   \n",
       "1          Guru Dutt: A Tragedy in Three Acts     [Arun Khopkar]   \n",
       "2                Leviathan (Penguin Classics)    [Thomas Hobbes]   \n",
       "3          A Pocket Full of Rye (Miss Marple)  [Agatha Christie]   \n",
       "4  LIFE 70 Years of Extraordinary Photography  [Editors of Life]   \n",
       "\n",
       "                      Edition             Reviews              Ratings  \\\n",
       "0  [Paperback, – 10 Mar 2016]  4.0 out of 5 stars   8 customer reviews   \n",
       "1   [Paperback, – 7 Nov 2012]  3.9 out of 5 stars  14 customer reviews   \n",
       "2  [Paperback, – 25 Feb 1982]  4.8 out of 5 stars   6 customer reviews   \n",
       "3   [Paperback, – 5 Oct 2017]  4.1 out of 5 stars  13 customer reviews   \n",
       "4  [Hardcover, – 10 Oct 2006]  5.0 out of 5 stars    1 customer review   \n",
       "\n",
       "                                            Synopsis  \\\n",
       "0  THE HUNTERS return in their third brilliant no...   \n",
       "1  A layered portrait of a troubled genius for wh...   \n",
       "2  \"During the time men live without a common Pow...   \n",
       "3  A handful of grain is found in the pocket of a...   \n",
       "4  For seven decades, \"Life\" has been thrilling t...   \n",
       "\n",
       "                            Genre                          BookCategory  \\\n",
       "0    [Action & Adventure (Books)]                    Action & Adventure   \n",
       "1    [Cinema & Broadcast (Books)]  Biographies, Diaries & True Accounts   \n",
       "2       [International Relations]                                Humour   \n",
       "3  [Contemporary Fiction (Books)]             Crime, Thriller & Mystery   \n",
       "4         [Photography Textbooks]              Arts, Film & Photography   \n",
       "\n",
       "    Price  Average Rating  ...       Type     Publication Time  \\\n",
       "0  220.00             4.0  ...  Paperback  2016-03-10 00:00:00   \n",
       "1  202.93             3.9  ...  Paperback  2012-11-07 00:00:00   \n",
       "2  299.00             4.8  ...  Paperback  1982-02-25 00:00:00   \n",
       "3  180.00             4.1  ...  Paperback  2017-10-05 00:00:00   \n",
       "4  965.62             5.0  ...  Hardcover  2006-10-10 00:00:00   \n",
       "\n",
       "  Special Features Month    Year  Total Genres  Synopsis Sentiment  \\\n",
       "0              0.0   3.0  2016.0           1.0            positive   \n",
       "1              0.0  11.0  2012.0           1.0            positive   \n",
       "2              0.0   2.0  1982.0           1.0            positive   \n",
       "3              0.0  10.0  2017.0           1.0            negative   \n",
       "4              0.0  10.0  2006.0           1.0            positive   \n",
       "\n",
       "   Title Sentiment          Category_1               Category_2  \n",
       "0          neutral  ACTION & ADVENTURE                     NONE  \n",
       "1         negative         BIOGRAPHIES  DIARIES & TRUE ACCOUNTS  \n",
       "2          neutral              HUMOUR                     NONE  \n",
       "3         negative               CRIME       THRILLER & MYSTERY  \n",
       "4          neutral                ARTS       FILM & PHOTOGRAPHY  \n",
       "\n",
       "[5 rows x 22 columns]"
      ]
     },
     "execution_count": 17,
     "metadata": {},
     "output_type": "execute_result"
    }
   ],
   "source": [
    "train.head()"
   ]
  },
  {
   "cell_type": "markdown",
   "metadata": {},
   "source": [
    "**Drop unecessary features after transformation**"
   ]
  },
  {
   "cell_type": "code",
   "execution_count": 18,
   "metadata": {},
   "outputs": [],
   "source": [
    "train_red = train.drop(['Title','Author','Edition','Reviews','Ratings','Synopsis','Genre','BookCategory','Publication Time'],axis=1)"
   ]
  },
  {
   "cell_type": "code",
   "execution_count": 19,
   "metadata": {
    "scrolled": false
   },
   "outputs": [
    {
     "data": {
      "text/html": [
       "<div>\n",
       "<style scoped>\n",
       "    .dataframe tbody tr th:only-of-type {\n",
       "        vertical-align: middle;\n",
       "    }\n",
       "\n",
       "    .dataframe tbody tr th {\n",
       "        vertical-align: top;\n",
       "    }\n",
       "\n",
       "    .dataframe thead th {\n",
       "        text-align: right;\n",
       "    }\n",
       "</style>\n",
       "<table border=\"1\" class=\"dataframe\">\n",
       "  <thead>\n",
       "    <tr style=\"text-align: right;\">\n",
       "      <th></th>\n",
       "      <th>Price</th>\n",
       "      <th>Average Rating</th>\n",
       "      <th>Total Reviews</th>\n",
       "      <th>Total Authors</th>\n",
       "      <th>Type</th>\n",
       "      <th>Special Features</th>\n",
       "      <th>Month</th>\n",
       "      <th>Year</th>\n",
       "      <th>Total Genres</th>\n",
       "      <th>Synopsis Sentiment</th>\n",
       "      <th>Title Sentiment</th>\n",
       "      <th>Category_1</th>\n",
       "      <th>Category_2</th>\n",
       "    </tr>\n",
       "  </thead>\n",
       "  <tbody>\n",
       "    <tr>\n",
       "      <th>0</th>\n",
       "      <td>220.00</td>\n",
       "      <td>4.0</td>\n",
       "      <td>8.0</td>\n",
       "      <td>1</td>\n",
       "      <td>Paperback</td>\n",
       "      <td>0.0</td>\n",
       "      <td>3.0</td>\n",
       "      <td>2016.0</td>\n",
       "      <td>1.0</td>\n",
       "      <td>positive</td>\n",
       "      <td>neutral</td>\n",
       "      <td>ACTION &amp; ADVENTURE</td>\n",
       "      <td>NONE</td>\n",
       "    </tr>\n",
       "    <tr>\n",
       "      <th>1</th>\n",
       "      <td>202.93</td>\n",
       "      <td>3.9</td>\n",
       "      <td>14.0</td>\n",
       "      <td>1</td>\n",
       "      <td>Paperback</td>\n",
       "      <td>0.0</td>\n",
       "      <td>11.0</td>\n",
       "      <td>2012.0</td>\n",
       "      <td>1.0</td>\n",
       "      <td>positive</td>\n",
       "      <td>negative</td>\n",
       "      <td>BIOGRAPHIES</td>\n",
       "      <td>DIARIES &amp; TRUE ACCOUNTS</td>\n",
       "    </tr>\n",
       "    <tr>\n",
       "      <th>2</th>\n",
       "      <td>299.00</td>\n",
       "      <td>4.8</td>\n",
       "      <td>6.0</td>\n",
       "      <td>1</td>\n",
       "      <td>Paperback</td>\n",
       "      <td>0.0</td>\n",
       "      <td>2.0</td>\n",
       "      <td>1982.0</td>\n",
       "      <td>1.0</td>\n",
       "      <td>positive</td>\n",
       "      <td>neutral</td>\n",
       "      <td>HUMOUR</td>\n",
       "      <td>NONE</td>\n",
       "    </tr>\n",
       "    <tr>\n",
       "      <th>3</th>\n",
       "      <td>180.00</td>\n",
       "      <td>4.1</td>\n",
       "      <td>13.0</td>\n",
       "      <td>1</td>\n",
       "      <td>Paperback</td>\n",
       "      <td>0.0</td>\n",
       "      <td>10.0</td>\n",
       "      <td>2017.0</td>\n",
       "      <td>1.0</td>\n",
       "      <td>negative</td>\n",
       "      <td>negative</td>\n",
       "      <td>CRIME</td>\n",
       "      <td>THRILLER &amp; MYSTERY</td>\n",
       "    </tr>\n",
       "    <tr>\n",
       "      <th>4</th>\n",
       "      <td>965.62</td>\n",
       "      <td>5.0</td>\n",
       "      <td>1.0</td>\n",
       "      <td>1</td>\n",
       "      <td>Hardcover</td>\n",
       "      <td>0.0</td>\n",
       "      <td>10.0</td>\n",
       "      <td>2006.0</td>\n",
       "      <td>1.0</td>\n",
       "      <td>positive</td>\n",
       "      <td>neutral</td>\n",
       "      <td>ARTS</td>\n",
       "      <td>FILM &amp; PHOTOGRAPHY</td>\n",
       "    </tr>\n",
       "  </tbody>\n",
       "</table>\n",
       "</div>"
      ],
      "text/plain": [
       "    Price  Average Rating  Total Reviews  Total Authors       Type  \\\n",
       "0  220.00             4.0            8.0              1  Paperback   \n",
       "1  202.93             3.9           14.0              1  Paperback   \n",
       "2  299.00             4.8            6.0              1  Paperback   \n",
       "3  180.00             4.1           13.0              1  Paperback   \n",
       "4  965.62             5.0            1.0              1  Hardcover   \n",
       "\n",
       "   Special Features  Month    Year  Total Genres Synopsis Sentiment  \\\n",
       "0               0.0    3.0  2016.0           1.0           positive   \n",
       "1               0.0   11.0  2012.0           1.0           positive   \n",
       "2               0.0    2.0  1982.0           1.0           positive   \n",
       "3               0.0   10.0  2017.0           1.0           negative   \n",
       "4               0.0   10.0  2006.0           1.0           positive   \n",
       "\n",
       "  Title Sentiment          Category_1               Category_2  \n",
       "0         neutral  ACTION & ADVENTURE                     NONE  \n",
       "1        negative         BIOGRAPHIES  DIARIES & TRUE ACCOUNTS  \n",
       "2         neutral              HUMOUR                     NONE  \n",
       "3        negative               CRIME       THRILLER & MYSTERY  \n",
       "4         neutral                ARTS       FILM & PHOTOGRAPHY  "
      ]
     },
     "execution_count": 19,
     "metadata": {},
     "output_type": "execute_result"
    }
   ],
   "source": [
    "train_red.head()"
   ]
  },
  {
   "cell_type": "code",
   "execution_count": 20,
   "metadata": {},
   "outputs": [],
   "source": [
    "train_red.Month = train_red.Month.fillna(train_red.Month.median())"
   ]
  },
  {
   "cell_type": "code",
   "execution_count": 21,
   "metadata": {},
   "outputs": [],
   "source": [
    "train_red.Year = train_red.Year.fillna(train_red.Year.median())"
   ]
  },
  {
   "cell_type": "markdown",
   "metadata": {},
   "source": [
    "### What was done to the original data set?\n",
    "\n",
    "   1. I cleansed columns **Ratings** and **Reviews** to only obtain the numeric values\n",
    "   2. I decided to only use the total authors each book has and deleted the orinal feature\n",
    "   3. I split **Edition** column into four features: Month of Publication, Year of Publication, Type of the book, and Special Features (0: No special features, 1: There is at least one special feature)\n",
    "   4. I performed a basic sentiment analysis on both **Title** and **Sysnopsis** columns and divided their sentiment scores as neutral (0), positive (>0), negative (<0)\n",
    "   5. I split **BookCategory** column into two features: Category_1 and Category_2"
   ]
  },
  {
   "cell_type": "markdown",
   "metadata": {},
   "source": [
    "## 2. Exploratory Data Analysis"
   ]
  },
  {
   "cell_type": "markdown",
   "metadata": {},
   "source": [
    "**a. Target Variable Distribution**"
   ]
  },
  {
   "cell_type": "code",
   "execution_count": 22,
   "metadata": {},
   "outputs": [
    {
     "data": {
      "text/plain": [
       "<AxesSubplot:xlabel='Price', ylabel='Count'>"
      ]
     },
     "execution_count": 22,
     "metadata": {},
     "output_type": "execute_result"
    },
    {
     "data": {
      "image/png": "[encoded data removed]",
      "text/plain": [
       "<Figure size 432x288 with 1 Axes>"
      ]
     },
     "metadata": {
      "needs_background": "light"
     },
     "output_type": "display_data"
    }
   ],
   "source": [
    "sns.histplot(train_red['Price'],kde=True,bins=10)"
   ]
  },
  {
   "cell_type": "markdown",
   "metadata": {},
   "source": [
    "Because the Price data is very skewed originally and would impact the accuracy of our machine learning models,  i would use np.log1p() on Price instead!"
   ]
  },
  {
   "cell_type": "code",
   "execution_count": 23,
   "metadata": {},
   "outputs": [
    {
     "data": {
      "text/plain": [
       "<AxesSubplot:xlabel='Price', ylabel='Count'>"
      ]
     },
     "execution_count": 23,
     "metadata": {},
     "output_type": "execute_result"
    },
    {
     "data": {
      "image/png": "[encoded data removed]",
      "text/plain": [
       "<Figure size 432x288 with 1 Axes>"
      ]
     },
     "metadata": {
      "needs_background": "light"
     },
     "output_type": "display_data"
    }
   ],
   "source": [
    "sns.histplot(np.log1p(train_red['Price']),bins=10,kde=True)"
   ]
  },
  {
   "cell_type": "markdown",
   "metadata": {},
   "source": [
    "**b. Categorical Variables**"
   ]
  },
  {
   "cell_type": "code",
   "execution_count": 25,
   "metadata": {},
   "outputs": [],
   "source": [
    "cat_columns =['Total Authors','Total Genres','Type','Special Features','Synopsis Sentiment','Title Sentiment','Category_1','Category_2']\n",
    "num_columns = ['Average Rating','Total Reviews']"
   ]
  },
  {
   "cell_type": "code",
   "execution_count": 154,
   "metadata": {},
   "outputs": [
    {
     "data": {
      "image/png": "[encoded data removed]",
      "text/plain": [
       "<Figure size 1440x864 with 8 Axes>"
      ]
     },
     "metadata": {
      "needs_background": "light"
     },
     "output_type": "display_data"
    }
   ],
   "source": [
    "#  Categorical Data\n",
    "a = 2  # number of rows\n",
    "b = 4  # number of columns\n",
    "c = 1  # initialize plot counter\n",
    "\n",
    "fig1 = plt.figure(figsize=(20,12))\n",
    "plt.subplots_adjust(wspace=0.4)\n",
    "\n",
    "for i in cat_columns:\n",
    "    plt.subplot(a, b, c)\n",
    "    #plt.title('{}'.format(i))\n",
    "    plt.xlabel(i)\n",
    "    sns.countplot(train_red[i],order = train_red[i].value_counts().index)\n",
    "    if i in ['Category_1','Category_2']:\n",
    "        plt.xticks(rotation=90)\n",
    "    c = c + 1\n",
    "plt.show()"
   ]
  },
  {
   "cell_type": "code",
   "execution_count": 155,
   "metadata": {},
   "outputs": [
    {
     "data": {
      "image/png": "[encoded data removed]",
      "text/plain": [
       "<Figure size 1440x864 with 8 Axes>"
      ]
     },
     "metadata": {
      "needs_background": "light"
     },
     "output_type": "display_data"
    }
   ],
   "source": [
    "#  Categorical Data\n",
    "a = 2  # number of rows\n",
    "b = 4  # number of columns\n",
    "c = 1  # initialize plot counter\n",
    "\n",
    "fig = plt.figure(figsize=(20,12))\n",
    "plt.subplots_adjust(wspace=0.4)\n",
    "\n",
    "for i in cat_columns:\n",
    "    plt.subplot(a, b, c)\n",
    "    #plt.title('{}'.format(i))\n",
    "    plt.xlabel(i)\n",
    "    sns.barplot(x=train_red[i],y=train_red['Price'])\n",
    "    if i in ['Category_1','Category_2']:\n",
    "        plt.xticks(rotation=90)\n",
    "    c = c + 1\n",
    "\n",
    "plt.show()"
   ]
  },
  {
   "cell_type": "markdown",
   "metadata": {},
   "source": [
    "Based on the graphs above, we can draw some takeaways:\n",
    "   * Even though most books only have one others but on average, co-authored books tend to be set at a higher price. \n",
    "   * Similar to that, books that come in with some special features are also marked at a higher price than those without. \n",
    "   * Books' titles and synopsis mostly convey neutral and positive sentiment and books with negative title/synopsis have much lower prices than the other two. \n",
    "   * A book's total genres does not seem to affect its pricing. "
   ]
  },
  {
   "cell_type": "code",
   "execution_count": 315,
   "metadata": {},
   "outputs": [
    {
     "data": {
      "text/plain": [
       "Year    Month\n",
       "1900.0  3.0      5253.000000\n",
       "1905.0  7.0       658.000000\n",
       "1960.0  1.0      1400.000000\n",
       "        6.0       499.000000\n",
       "1961.0  10.0      304.000000\n",
       "                    ...     \n",
       "2019.0  4.0       319.261098\n",
       "        5.0       405.296098\n",
       "        6.0       373.567000\n",
       "        7.0       345.666667\n",
       "        10.0      304.000000\n",
       "Name: Price, Length: 421, dtype: float64"
      ]
     },
     "execution_count": 315,
     "metadata": {},
     "output_type": "execute_result"
    }
   ],
   "source": [
    "sns.set()\n",
    "train_red.groupby(['Year','Month'])['Price'].mean()"
   ]
  },
  {
   "cell_type": "code",
   "execution_count": 103,
   "metadata": {},
   "outputs": [
    {
     "data": {
      "text/plain": [
       "<seaborn.axisgrid.FacetGrid at 0x7fb37e1e7160>"
      ]
     },
     "execution_count": 103,
     "metadata": {},
     "output_type": "execute_result"
    },
    {
     "data": {
      "image/png": "[encoded data removed]",
      "text/plain": [
       "<Figure size 1080x360 with 3 Axes>"
      ]
     },
     "metadata": {
      "needs_background": "light"
     },
     "output_type": "display_data"
    }
   ],
   "source": [
    "sns.relplot(x=train_red.Year[(train_red.Year >= 1960)],y=np.log1p(train_red['Price']),data=train_red,kind='line',col='Type',ci=False)"
   ]
  },
  {
   "cell_type": "markdown",
   "metadata": {},
   "source": [
    "From the graphs above, hardcover books most of the time yield a higer price than paperback books even though their price points have been fluctuating a lot. Paperback books have been remaining relatively stable since 1990 with a trend of decreasing after 2015. "
   ]
  },
  {
   "cell_type": "markdown",
   "metadata": {},
   "source": [
    "## 3. Data Scaling and Dummification"
   ]
  },
  {
   "cell_type": "code",
   "execution_count": 104,
   "metadata": {},
   "outputs": [],
   "source": [
    "test = data_transformer(test)"
   ]
  },
  {
   "cell_type": "code",
   "execution_count": 105,
   "metadata": {},
   "outputs": [],
   "source": [
    "test_red = test.drop(['Title','Author','Edition','Reviews','Ratings','Synopsis','Genre','BookCategory','Publication Time'],axis=1)"
   ]
  },
  {
   "cell_type": "code",
   "execution_count": 106,
   "metadata": {},
   "outputs": [],
   "source": [
    "test_red.Month = test_red.Month.fillna(test_red.Month.median())\n",
    "test_red.Year = test_red.Year.fillna(test_red.Year.median())"
   ]
  },
  {
   "cell_type": "code",
   "execution_count": 107,
   "metadata": {},
   "outputs": [
    {
     "data": {
      "text/html": [
       "<div>\n",
       "<style scoped>\n",
       "    .dataframe tbody tr th:only-of-type {\n",
       "        vertical-align: middle;\n",
       "    }\n",
       "\n",
       "    .dataframe tbody tr th {\n",
       "        vertical-align: top;\n",
       "    }\n",
       "\n",
       "    .dataframe thead th {\n",
       "        text-align: right;\n",
       "    }\n",
       "</style>\n",
       "<table border=\"1\" class=\"dataframe\">\n",
       "  <thead>\n",
       "    <tr style=\"text-align: right;\">\n",
       "      <th></th>\n",
       "      <th>Average Rating</th>\n",
       "      <th>Total Reviews</th>\n",
       "      <th>Total Authors</th>\n",
       "      <th>Type</th>\n",
       "      <th>Special Features</th>\n",
       "      <th>Month</th>\n",
       "      <th>Year</th>\n",
       "      <th>Total Genres</th>\n",
       "      <th>Synopsis Sentiment</th>\n",
       "      <th>Title Sentiment</th>\n",
       "      <th>Category_1</th>\n",
       "      <th>Category_2</th>\n",
       "    </tr>\n",
       "  </thead>\n",
       "  <tbody>\n",
       "    <tr>\n",
       "      <th>0</th>\n",
       "      <td>4.4</td>\n",
       "      <td>960.0</td>\n",
       "      <td>1</td>\n",
       "      <td>Paperback</td>\n",
       "      <td>0.0</td>\n",
       "      <td>10.0</td>\n",
       "      <td>1986.0</td>\n",
       "      <td>1.0</td>\n",
       "      <td>positive</td>\n",
       "      <td>neutral</td>\n",
       "      <td>CRIME</td>\n",
       "      <td>THRILLER &amp; MYSTERY</td>\n",
       "    </tr>\n",
       "    <tr>\n",
       "      <th>1</th>\n",
       "      <td>5.0</td>\n",
       "      <td>1.0</td>\n",
       "      <td>1</td>\n",
       "      <td>Paperback</td>\n",
       "      <td>1.0</td>\n",
       "      <td>7.0</td>\n",
       "      <td>2014.0</td>\n",
       "      <td>1.0</td>\n",
       "      <td>positive</td>\n",
       "      <td>neutral</td>\n",
       "      <td>COMPUTING</td>\n",
       "      <td>INTERNET &amp; DIGITAL MEDIA</td>\n",
       "    </tr>\n",
       "    <tr>\n",
       "      <th>2</th>\n",
       "      <td>5.0</td>\n",
       "      <td>4.0</td>\n",
       "      <td>1</td>\n",
       "      <td>Paperback</td>\n",
       "      <td>0.0</td>\n",
       "      <td>3.0</td>\n",
       "      <td>2011.0</td>\n",
       "      <td>1.0</td>\n",
       "      <td>positive</td>\n",
       "      <td>positive</td>\n",
       "      <td>ROMANCE</td>\n",
       "      <td>NONE</td>\n",
       "    </tr>\n",
       "    <tr>\n",
       "      <th>3</th>\n",
       "      <td>4.1</td>\n",
       "      <td>11.0</td>\n",
       "      <td>1</td>\n",
       "      <td>Paperback</td>\n",
       "      <td>0.0</td>\n",
       "      <td>7.0</td>\n",
       "      <td>2014.0</td>\n",
       "      <td>1.0</td>\n",
       "      <td>positive</td>\n",
       "      <td>positive</td>\n",
       "      <td>COMPUTING</td>\n",
       "      <td>INTERNET &amp; DIGITAL MEDIA</td>\n",
       "    </tr>\n",
       "    <tr>\n",
       "      <th>4</th>\n",
       "      <td>4.4</td>\n",
       "      <td>9.0</td>\n",
       "      <td>1</td>\n",
       "      <td>Paperback</td>\n",
       "      <td>0.0</td>\n",
       "      <td>12.0</td>\n",
       "      <td>2011.0</td>\n",
       "      <td>1.0</td>\n",
       "      <td>neutral</td>\n",
       "      <td>positive</td>\n",
       "      <td>LANGUAGE</td>\n",
       "      <td>LINGUISTICS &amp; WRITING</td>\n",
       "    </tr>\n",
       "  </tbody>\n",
       "</table>\n",
       "</div>"
      ],
      "text/plain": [
       "   Average Rating  Total Reviews  Total Authors       Type  Special Features  \\\n",
       "0             4.4          960.0              1  Paperback               0.0   \n",
       "1             5.0            1.0              1  Paperback               1.0   \n",
       "2             5.0            4.0              1  Paperback               0.0   \n",
       "3             4.1           11.0              1  Paperback               0.0   \n",
       "4             4.4            9.0              1  Paperback               0.0   \n",
       "\n",
       "   Month    Year  Total Genres Synopsis Sentiment Title Sentiment Category_1  \\\n",
       "0   10.0  1986.0           1.0           positive         neutral      CRIME   \n",
       "1    7.0  2014.0           1.0           positive         neutral  COMPUTING   \n",
       "2    3.0  2011.0           1.0           positive        positive    ROMANCE   \n",
       "3    7.0  2014.0           1.0           positive        positive  COMPUTING   \n",
       "4   12.0  2011.0           1.0            neutral        positive   LANGUAGE   \n",
       "\n",
       "                 Category_2  \n",
       "0        THRILLER & MYSTERY  \n",
       "1  INTERNET & DIGITAL MEDIA  \n",
       "2                      NONE  \n",
       "3  INTERNET & DIGITAL MEDIA  \n",
       "4     LINGUISTICS & WRITING  "
      ]
     },
     "execution_count": 107,
     "metadata": {},
     "output_type": "execute_result"
    }
   ],
   "source": [
    "test_red.head()"
   ]
  },
  {
   "cell_type": "code",
   "execution_count": 108,
   "metadata": {},
   "outputs": [],
   "source": [
    "X = pd.get_dummies(train_red)\n",
    "X = X.drop('Price',axis=1)\n",
    "test_scaled = pd.get_dummies(test_red)\n",
    "\n",
    "scaler = StandardScaler()\n",
    "for c in ['Average Rating','Total Reviews','Month','Year']:\n",
    "    scaler = StandardScaler().fit(X[[c]])\n",
    "    X[c] = scaler.transform(X[[c]])\n",
    "    test_scaled[c] = scaler.transform(test_scaled[[c]])"
   ]
  },
  {
   "cell_type": "code",
   "execution_count": 109,
   "metadata": {},
   "outputs": [],
   "source": [
    "y = np.log1p(train_red['Price'])"
   ]
  },
  {
   "cell_type": "code",
   "execution_count": 110,
   "metadata": {},
   "outputs": [],
   "source": [
    "X_train,X_test,y_train,y_test = train_test_split(X,y,test_size = 0.2, random_state = 1103)"
   ]
  },
  {
   "cell_type": "code",
   "execution_count": 111,
   "metadata": {},
   "outputs": [
    {
     "data": {
      "text/html": [
       "<div>\n",
       "<style scoped>\n",
       "    .dataframe tbody tr th:only-of-type {\n",
       "        vertical-align: middle;\n",
       "    }\n",
       "\n",
       "    .dataframe tbody tr th {\n",
       "        vertical-align: top;\n",
       "    }\n",
       "\n",
       "    .dataframe thead th {\n",
       "        text-align: right;\n",
       "    }\n",
       "</style>\n",
       "<table border=\"1\" class=\"dataframe\">\n",
       "  <thead>\n",
       "    <tr style=\"text-align: right;\">\n",
       "      <th></th>\n",
       "      <th>Average Rating</th>\n",
       "      <th>Total Reviews</th>\n",
       "      <th>Total Authors</th>\n",
       "      <th>Special Features</th>\n",
       "      <th>Month</th>\n",
       "      <th>Year</th>\n",
       "      <th>Total Genres</th>\n",
       "      <th>Type_Hardcover</th>\n",
       "      <th>Type_Others</th>\n",
       "      <th>Type_Paperback</th>\n",
       "      <th>...</th>\n",
       "      <th>Category_1_LANGUAGE</th>\n",
       "      <th>Category_1_POLITICS</th>\n",
       "      <th>Category_1_ROMANCE</th>\n",
       "      <th>Category_1_SPORTS</th>\n",
       "      <th>Category_2_DIARIES &amp; TRUE ACCOUNTS</th>\n",
       "      <th>Category_2_FILM &amp; PHOTOGRAPHY</th>\n",
       "      <th>Category_2_INTERNET &amp; DIGITAL MEDIA</th>\n",
       "      <th>Category_2_LINGUISTICS &amp; WRITING</th>\n",
       "      <th>Category_2_NONE</th>\n",
       "      <th>Category_2_THRILLER &amp; MYSTERY</th>\n",
       "    </tr>\n",
       "  </thead>\n",
       "  <tbody>\n",
       "    <tr>\n",
       "      <th>1723</th>\n",
       "      <td>-0.291648</td>\n",
       "      <td>-0.179916</td>\n",
       "      <td>1</td>\n",
       "      <td>0.0</td>\n",
       "      <td>-0.204543</td>\n",
       "      <td>0.688110</td>\n",
       "      <td>1.0</td>\n",
       "      <td>0</td>\n",
       "      <td>1</td>\n",
       "      <td>0</td>\n",
       "      <td>...</td>\n",
       "      <td>0</td>\n",
       "      <td>0</td>\n",
       "      <td>0</td>\n",
       "      <td>0</td>\n",
       "      <td>0</td>\n",
       "      <td>1</td>\n",
       "      <td>0</td>\n",
       "      <td>0</td>\n",
       "      <td>0</td>\n",
       "      <td>0</td>\n",
       "    </tr>\n",
       "    <tr>\n",
       "      <th>2790</th>\n",
       "      <td>0.765038</td>\n",
       "      <td>-0.206585</td>\n",
       "      <td>1</td>\n",
       "      <td>0.0</td>\n",
       "      <td>0.745842</td>\n",
       "      <td>-0.114360</td>\n",
       "      <td>1.0</td>\n",
       "      <td>0</td>\n",
       "      <td>0</td>\n",
       "      <td>1</td>\n",
       "      <td>...</td>\n",
       "      <td>0</td>\n",
       "      <td>0</td>\n",
       "      <td>0</td>\n",
       "      <td>0</td>\n",
       "      <td>0</td>\n",
       "      <td>0</td>\n",
       "      <td>0</td>\n",
       "      <td>0</td>\n",
       "      <td>1</td>\n",
       "      <td>0</td>\n",
       "    </tr>\n",
       "    <tr>\n",
       "      <th>3766</th>\n",
       "      <td>0.614083</td>\n",
       "      <td>-0.159913</td>\n",
       "      <td>1</td>\n",
       "      <td>1.0</td>\n",
       "      <td>0.112252</td>\n",
       "      <td>0.286875</td>\n",
       "      <td>1.0</td>\n",
       "      <td>0</td>\n",
       "      <td>0</td>\n",
       "      <td>1</td>\n",
       "      <td>...</td>\n",
       "      <td>0</td>\n",
       "      <td>0</td>\n",
       "      <td>1</td>\n",
       "      <td>0</td>\n",
       "      <td>0</td>\n",
       "      <td>0</td>\n",
       "      <td>0</td>\n",
       "      <td>0</td>\n",
       "      <td>1</td>\n",
       "      <td>0</td>\n",
       "    </tr>\n",
       "    <tr>\n",
       "      <th>1204</th>\n",
       "      <td>0.161217</td>\n",
       "      <td>-0.126576</td>\n",
       "      <td>1</td>\n",
       "      <td>0.0</td>\n",
       "      <td>1.379431</td>\n",
       "      <td>0.286875</td>\n",
       "      <td>1.0</td>\n",
       "      <td>0</td>\n",
       "      <td>0</td>\n",
       "      <td>1</td>\n",
       "      <td>...</td>\n",
       "      <td>0</td>\n",
       "      <td>0</td>\n",
       "      <td>0</td>\n",
       "      <td>0</td>\n",
       "      <td>1</td>\n",
       "      <td>0</td>\n",
       "      <td>0</td>\n",
       "      <td>0</td>\n",
       "      <td>0</td>\n",
       "      <td>0</td>\n",
       "    </tr>\n",
       "    <tr>\n",
       "      <th>4148</th>\n",
       "      <td>-0.442603</td>\n",
       "      <td>-0.233255</td>\n",
       "      <td>1</td>\n",
       "      <td>0.0</td>\n",
       "      <td>0.429047</td>\n",
       "      <td>-1.184320</td>\n",
       "      <td>1.0</td>\n",
       "      <td>0</td>\n",
       "      <td>0</td>\n",
       "      <td>1</td>\n",
       "      <td>...</td>\n",
       "      <td>0</td>\n",
       "      <td>0</td>\n",
       "      <td>0</td>\n",
       "      <td>0</td>\n",
       "      <td>0</td>\n",
       "      <td>0</td>\n",
       "      <td>0</td>\n",
       "      <td>0</td>\n",
       "      <td>1</td>\n",
       "      <td>0</td>\n",
       "    </tr>\n",
       "  </tbody>\n",
       "</table>\n",
       "<p>5 rows × 33 columns</p>\n",
       "</div>"
      ],
      "text/plain": [
       "      Average Rating  Total Reviews  Total Authors  Special Features  \\\n",
       "1723       -0.291648      -0.179916              1               0.0   \n",
       "2790        0.765038      -0.206585              1               0.0   \n",
       "3766        0.614083      -0.159913              1               1.0   \n",
       "1204        0.161217      -0.126576              1               0.0   \n",
       "4148       -0.442603      -0.233255              1               0.0   \n",
       "\n",
       "         Month      Year  Total Genres  Type_Hardcover  Type_Others  \\\n",
       "1723 -0.204543  0.688110           1.0               0            1   \n",
       "2790  0.745842 -0.114360           1.0               0            0   \n",
       "3766  0.112252  0.286875           1.0               0            0   \n",
       "1204  1.379431  0.286875           1.0               0            0   \n",
       "4148  0.429047 -1.184320           1.0               0            0   \n",
       "\n",
       "      Type_Paperback  ...  Category_1_LANGUAGE  Category_1_POLITICS  \\\n",
       "1723               0  ...                    0                    0   \n",
       "2790               1  ...                    0                    0   \n",
       "3766               1  ...                    0                    0   \n",
       "1204               1  ...                    0                    0   \n",
       "4148               1  ...                    0                    0   \n",
       "\n",
       "      Category_1_ROMANCE  Category_1_SPORTS  \\\n",
       "1723                   0                  0   \n",
       "2790                   0                  0   \n",
       "3766                   1                  0   \n",
       "1204                   0                  0   \n",
       "4148                   0                  0   \n",
       "\n",
       "      Category_2_DIARIES & TRUE ACCOUNTS  Category_2_FILM & PHOTOGRAPHY  \\\n",
       "1723                                   0                              1   \n",
       "2790                                   0                              0   \n",
       "3766                                   0                              0   \n",
       "1204                                   1                              0   \n",
       "4148                                   0                              0   \n",
       "\n",
       "      Category_2_INTERNET & DIGITAL MEDIA  Category_2_LINGUISTICS & WRITING  \\\n",
       "1723                                    0                                 0   \n",
       "2790                                    0                                 0   \n",
       "3766                                    0                                 0   \n",
       "1204                                    0                                 0   \n",
       "4148                                    0                                 0   \n",
       "\n",
       "      Category_2_NONE  Category_2_THRILLER & MYSTERY  \n",
       "1723                0                              0  \n",
       "2790                1                              0  \n",
       "3766                1                              0  \n",
       "1204                0                              0  \n",
       "4148                1                              0  \n",
       "\n",
       "[5 rows x 33 columns]"
      ]
     },
     "execution_count": 111,
     "metadata": {},
     "output_type": "execute_result"
    }
   ],
   "source": [
    "X_train.head()"
   ]
  },
  {
   "cell_type": "markdown",
   "metadata": {},
   "source": [
    "#### Without Tunning"
   ]
  },
  {
   "cell_type": "code",
   "execution_count": 112,
   "metadata": {},
   "outputs": [],
   "source": [
    "rf = RandomForestRegressor(random_state=1103)\n",
    "rf.fit(X_train,y_train)\n",
    "y_pred=rf.predict(X_test)"
   ]
  },
  {
   "cell_type": "code",
   "execution_count": 113,
   "metadata": {},
   "outputs": [
    {
     "data": {
      "text/html": [
       "<div>\n",
       "<style scoped>\n",
       "    .dataframe tbody tr th:only-of-type {\n",
       "        vertical-align: middle;\n",
       "    }\n",
       "\n",
       "    .dataframe tbody tr th {\n",
       "        vertical-align: top;\n",
       "    }\n",
       "\n",
       "    .dataframe thead th {\n",
       "        text-align: right;\n",
       "    }\n",
       "</style>\n",
       "<table border=\"1\" class=\"dataframe\">\n",
       "  <thead>\n",
       "    <tr style=\"text-align: right;\">\n",
       "      <th></th>\n",
       "      <th>Average Rating</th>\n",
       "      <th>Total Reviews</th>\n",
       "      <th>Total Authors</th>\n",
       "      <th>Special Features</th>\n",
       "      <th>Month</th>\n",
       "      <th>Year</th>\n",
       "      <th>Total Genres</th>\n",
       "      <th>Type_Hardcover</th>\n",
       "      <th>Type_Others</th>\n",
       "      <th>Type_Paperback</th>\n",
       "      <th>...</th>\n",
       "      <th>Category_1_LANGUAGE</th>\n",
       "      <th>Category_1_POLITICS</th>\n",
       "      <th>Category_1_ROMANCE</th>\n",
       "      <th>Category_1_SPORTS</th>\n",
       "      <th>Category_2_DIARIES &amp; TRUE ACCOUNTS</th>\n",
       "      <th>Category_2_FILM &amp; PHOTOGRAPHY</th>\n",
       "      <th>Category_2_INTERNET &amp; DIGITAL MEDIA</th>\n",
       "      <th>Category_2_LINGUISTICS &amp; WRITING</th>\n",
       "      <th>Category_2_NONE</th>\n",
       "      <th>Category_2_THRILLER &amp; MYSTERY</th>\n",
       "    </tr>\n",
       "  </thead>\n",
       "  <tbody>\n",
       "    <tr>\n",
       "      <th>0</th>\n",
       "      <td>0.161217</td>\n",
       "      <td>6.160803</td>\n",
       "      <td>1</td>\n",
       "      <td>0.0</td>\n",
       "      <td>1.062637</td>\n",
       "      <td>-3.457984</td>\n",
       "      <td>1.0</td>\n",
       "      <td>0</td>\n",
       "      <td>0</td>\n",
       "      <td>1</td>\n",
       "      <td>...</td>\n",
       "      <td>0</td>\n",
       "      <td>0</td>\n",
       "      <td>0</td>\n",
       "      <td>0</td>\n",
       "      <td>0</td>\n",
       "      <td>0</td>\n",
       "      <td>0</td>\n",
       "      <td>0</td>\n",
       "      <td>0</td>\n",
       "      <td>1</td>\n",
       "    </tr>\n",
       "    <tr>\n",
       "      <th>1</th>\n",
       "      <td>1.066948</td>\n",
       "      <td>-0.233255</td>\n",
       "      <td>1</td>\n",
       "      <td>1.0</td>\n",
       "      <td>0.112252</td>\n",
       "      <td>0.286875</td>\n",
       "      <td>1.0</td>\n",
       "      <td>0</td>\n",
       "      <td>0</td>\n",
       "      <td>1</td>\n",
       "      <td>...</td>\n",
       "      <td>0</td>\n",
       "      <td>0</td>\n",
       "      <td>0</td>\n",
       "      <td>0</td>\n",
       "      <td>0</td>\n",
       "      <td>0</td>\n",
       "      <td>1</td>\n",
       "      <td>0</td>\n",
       "      <td>0</td>\n",
       "      <td>0</td>\n",
       "    </tr>\n",
       "    <tr>\n",
       "      <th>2</th>\n",
       "      <td>1.066948</td>\n",
       "      <td>-0.213253</td>\n",
       "      <td>1</td>\n",
       "      <td>0.0</td>\n",
       "      <td>-1.154927</td>\n",
       "      <td>-0.114360</td>\n",
       "      <td>1.0</td>\n",
       "      <td>0</td>\n",
       "      <td>0</td>\n",
       "      <td>1</td>\n",
       "      <td>...</td>\n",
       "      <td>0</td>\n",
       "      <td>0</td>\n",
       "      <td>1</td>\n",
       "      <td>0</td>\n",
       "      <td>0</td>\n",
       "      <td>0</td>\n",
       "      <td>0</td>\n",
       "      <td>0</td>\n",
       "      <td>1</td>\n",
       "      <td>0</td>\n",
       "    </tr>\n",
       "    <tr>\n",
       "      <th>3</th>\n",
       "      <td>-0.291648</td>\n",
       "      <td>-0.166581</td>\n",
       "      <td>1</td>\n",
       "      <td>0.0</td>\n",
       "      <td>0.112252</td>\n",
       "      <td>0.286875</td>\n",
       "      <td>1.0</td>\n",
       "      <td>0</td>\n",
       "      <td>0</td>\n",
       "      <td>1</td>\n",
       "      <td>...</td>\n",
       "      <td>0</td>\n",
       "      <td>0</td>\n",
       "      <td>0</td>\n",
       "      <td>0</td>\n",
       "      <td>0</td>\n",
       "      <td>0</td>\n",
       "      <td>1</td>\n",
       "      <td>0</td>\n",
       "      <td>0</td>\n",
       "      <td>0</td>\n",
       "    </tr>\n",
       "    <tr>\n",
       "      <th>4</th>\n",
       "      <td>0.161217</td>\n",
       "      <td>-0.179916</td>\n",
       "      <td>1</td>\n",
       "      <td>0.0</td>\n",
       "      <td>1.696226</td>\n",
       "      <td>-0.114360</td>\n",
       "      <td>1.0</td>\n",
       "      <td>0</td>\n",
       "      <td>0</td>\n",
       "      <td>1</td>\n",
       "      <td>...</td>\n",
       "      <td>1</td>\n",
       "      <td>0</td>\n",
       "      <td>0</td>\n",
       "      <td>0</td>\n",
       "      <td>0</td>\n",
       "      <td>0</td>\n",
       "      <td>0</td>\n",
       "      <td>1</td>\n",
       "      <td>0</td>\n",
       "      <td>0</td>\n",
       "    </tr>\n",
       "  </tbody>\n",
       "</table>\n",
       "<p>5 rows × 33 columns</p>\n",
       "</div>"
      ],
      "text/plain": [
       "   Average Rating  Total Reviews  Total Authors  Special Features     Month  \\\n",
       "0        0.161217       6.160803              1               0.0  1.062637   \n",
       "1        1.066948      -0.233255              1               1.0  0.112252   \n",
       "2        1.066948      -0.213253              1               0.0 -1.154927   \n",
       "3       -0.291648      -0.166581              1               0.0  0.112252   \n",
       "4        0.161217      -0.179916              1               0.0  1.696226   \n",
       "\n",
       "       Year  Total Genres  Type_Hardcover  Type_Others  Type_Paperback  ...  \\\n",
       "0 -3.457984           1.0               0            0               1  ...   \n",
       "1  0.286875           1.0               0            0               1  ...   \n",
       "2 -0.114360           1.0               0            0               1  ...   \n",
       "3  0.286875           1.0               0            0               1  ...   \n",
       "4 -0.114360           1.0               0            0               1  ...   \n",
       "\n",
       "   Category_1_LANGUAGE  Category_1_POLITICS  Category_1_ROMANCE  \\\n",
       "0                    0                    0                   0   \n",
       "1                    0                    0                   0   \n",
       "2                    0                    0                   1   \n",
       "3                    0                    0                   0   \n",
       "4                    1                    0                   0   \n",
       "\n",
       "   Category_1_SPORTS  Category_2_DIARIES & TRUE ACCOUNTS  \\\n",
       "0                  0                                   0   \n",
       "1                  0                                   0   \n",
       "2                  0                                   0   \n",
       "3                  0                                   0   \n",
       "4                  0                                   0   \n",
       "\n",
       "   Category_2_FILM & PHOTOGRAPHY  Category_2_INTERNET & DIGITAL MEDIA  \\\n",
       "0                              0                                    0   \n",
       "1                              0                                    1   \n",
       "2                              0                                    0   \n",
       "3                              0                                    1   \n",
       "4                              0                                    0   \n",
       "\n",
       "   Category_2_LINGUISTICS & WRITING  Category_2_NONE  \\\n",
       "0                                 0                0   \n",
       "1                                 0                0   \n",
       "2                                 0                1   \n",
       "3                                 0                0   \n",
       "4                                 1                0   \n",
       "\n",
       "   Category_2_THRILLER & MYSTERY  \n",
       "0                              1  \n",
       "1                              0  \n",
       "2                              0  \n",
       "3                              0  \n",
       "4                              0  \n",
       "\n",
       "[5 rows x 33 columns]"
      ]
     },
     "execution_count": 113,
     "metadata": {},
     "output_type": "execute_result"
    }
   ],
   "source": [
    "test_scaled.head()"
   ]
  },
  {
   "cell_type": "code",
   "execution_count": 114,
   "metadata": {},
   "outputs": [],
   "source": [
    "test_pred = np.expm1(rf.predict(test_scaled))"
   ]
  },
  {
   "cell_type": "code",
   "execution_count": 115,
   "metadata": {},
   "outputs": [
    {
     "data": {
      "text/plain": [
       "0.6490527031178326"
      ]
     },
     "execution_count": 115,
     "metadata": {},
     "output_type": "execute_result"
    }
   ],
   "source": [
    "np.sqrt(mean_squared_error(y_pred,y_test))"
   ]
  },
  {
   "cell_type": "code",
   "execution_count": 460,
   "metadata": {},
   "outputs": [],
   "source": [
    "score_before_tunning = 0.71921 "
   ]
  },
  {
   "cell_type": "markdown",
   "metadata": {},
   "source": [
    "#### Hyperparameters Tunning"
   ]
  },
  {
   "cell_type": "code",
   "execution_count": 141,
   "metadata": {},
   "outputs": [],
   "source": [
    "n_estimators = [300]\n",
    "max_depth = [12]\n",
    "min_samples_split = [10]\n",
    "min_samples_leaf = [2]\n",
    "max_features = [10]\n",
    "rf_grid = dict(n_estimators=n_estimators,max_depth=max_depth,min_samples_split=min_samples_split,min_samples_leaf=min_samples_leaf,max_features=max_features)\n",
    "kfold = KFold(n_splits=10, shuffle=True, random_state=1103)\n",
    "\n",
    "rf_cv = GridSearchCV(rf, param_grid=rf_grid, scoring=\"neg_mean_squared_log_error\", n_jobs=-1, cv=kfold)\n",
    "rf_result = rf_cv.fit(X_train, y_train)"
   ]
  },
  {
   "cell_type": "code",
   "execution_count": 140,
   "metadata": {},
   "outputs": [
    {
     "name": "stdout",
     "output_type": "stream",
     "text": [
      "Best: -0.008076 using {'max_depth': 12, 'max_features': 10, 'min_samples_leaf': 2, 'min_samples_split': 10, 'n_estimators': 300}\n",
      "-0.008166 (0.000765) with: {'max_depth': 12, 'max_features': 5, 'min_samples_leaf': 2, 'min_samples_split': 10, 'n_estimators': 300}\n",
      "-0.008115 (0.000777) with: {'max_depth': 12, 'max_features': 7, 'min_samples_leaf': 2, 'min_samples_split': 10, 'n_estimators': 300}\n",
      "-0.008076 (0.000786) with: {'max_depth': 12, 'max_features': 10, 'min_samples_leaf': 2, 'min_samples_split': 10, 'n_estimators': 300}\n"
     ]
    }
   ],
   "source": [
    "#summarize results\n",
    "print(\"Best: %f using %s\" % (rf_result.best_score_, rf_result.best_params_))\n",
    "means = rf_result.cv_results_['mean_test_score']\n",
    "stds = rf_result.cv_results_['std_test_score']\n",
    "params = rf_result.cv_results_['params']\n",
    "for mean, stdev, param in zip(means, stds, params):\n",
    "    print(\"%f (%f) with: %r\" % (mean, stdev, param))"
   ]
  },
  {
   "cell_type": "code",
   "execution_count": 142,
   "metadata": {},
   "outputs": [],
   "source": [
    "y_pred_2 = rf_cv.predict(X_test)"
   ]
  },
  {
   "cell_type": "code",
   "execution_count": 143,
   "metadata": {},
   "outputs": [
    {
     "data": {
      "text/plain": [
       "0.6414761908698979"
      ]
     },
     "execution_count": 143,
     "metadata": {},
     "output_type": "execute_result"
    }
   ],
   "source": [
    "np.sqrt(mean_squared_error(y_pred_2,y_test))"
   ]
  },
  {
   "cell_type": "code",
   "execution_count": 144,
   "metadata": {},
   "outputs": [
    {
     "data": {
      "text/plain": [
       "0.6490527031178326"
      ]
     },
     "execution_count": 144,
     "metadata": {},
     "output_type": "execute_result"
    }
   ],
   "source": [
    "np.sqrt(mean_squared_error(y_pred,y_test))"
   ]
  },
  {
   "cell_type": "code",
   "execution_count": 145,
   "metadata": {},
   "outputs": [],
   "source": [
    "test_pred_2 = np.expm1(rf_cv.predict(test_scaled))"
   ]
  },
  {
   "cell_type": "code",
   "execution_count": 148,
   "metadata": {},
   "outputs": [],
   "source": [
    "submission['Price'] = test_pred_2\n",
    "submission.to_csv('/Users/louietran/Downloads/Machine Hack - Book Price Prediction/final_submission.csv')"
   ]
  },
  {
   "cell_type": "code",
   "execution_count": 167,
   "metadata": {},
   "outputs": [],
   "source": [
    "rf_score_tuned = 0.73041\n"
   ]
  },
  {
   "cell_type": "markdown",
   "metadata": {},
   "source": [
    "### b. XGBoost"
   ]
  },
  {
   "cell_type": "code",
   "execution_count": 593,
   "metadata": {},
   "outputs": [],
   "source": [
    "xgr = xgb.XGBRegressor(objective='reg:squarederror',random_state=1103)"
   ]
  },
  {
   "cell_type": "code",
   "execution_count": 594,
   "metadata": {},
   "outputs": [
    {
     "data": {
      "text/plain": [
       "XGBRegressor(base_score=0.5, booster='gbtree', colsample_bylevel=1,\n",
       "             colsample_bynode=1, colsample_bytree=1, gamma=0, gpu_id=-1,\n",
       "             importance_type='gain', interaction_constraints='',\n",
       "             learning_rate=0.300000012, max_delta_step=0, max_depth=6,\n",
       "             min_child_weight=1, missing=nan, monotone_constraints='()',\n",
       "             n_estimators=100, n_jobs=0, num_parallel_tree=1, random_state=1103,\n",
       "             reg_alpha=0, reg_lambda=1, scale_pos_weight=1, subsample=1,\n",
       "             tree_method='exact', validate_parameters=1, verbosity=None)"
      ]
     },
     "execution_count": 594,
     "metadata": {},
     "output_type": "execute_result"
    }
   ],
   "source": [
    "xgr.fit(X_train,y_train)"
   ]
  },
  {
   "cell_type": "code",
   "execution_count": 595,
   "metadata": {},
   "outputs": [],
   "source": [
    "y_pred_xgr = xgr.predict(X_test)"
   ]
  },
  {
   "cell_type": "code",
   "execution_count": 596,
   "metadata": {},
   "outputs": [],
   "source": [
    "test_pred_xgr = np.expm1(xgr.predict(test_scaled))"
   ]
  },
  {
   "cell_type": "code",
   "execution_count": 597,
   "metadata": {},
   "outputs": [
    {
     "data": {
      "text/plain": [
       "0.6533289196558906"
      ]
     },
     "execution_count": 597,
     "metadata": {},
     "output_type": "execute_result"
    }
   ],
   "source": [
    "np.sqrt(mean_squared_error(y_pred_xgr,y_test))"
   ]
  },
  {
   "cell_type": "code",
   "execution_count": 533,
   "metadata": {},
   "outputs": [],
   "source": [
    "submission['Price'] =test_pred_xgr\n",
    "submission.to_csv('/Users/louietran/Downloads/Machine Hack - Book Price Prediction/final_submission.csv')"
   ]
  },
  {
   "cell_type": "code",
   "execution_count": 534,
   "metadata": {},
   "outputs": [],
   "source": [
    "xgr_score_notune = 0.72041"
   ]
  },
  {
   "cell_type": "markdown",
   "metadata": {},
   "source": [
    "**Hyperparameters Tunning**"
   ]
  },
  {
   "cell_type": "code",
   "execution_count": 698,
   "metadata": {
    "scrolled": false
   },
   "outputs": [],
   "source": [
    "n_estimators = [400]\n",
    "learning_rate = [0.01]\n",
    "max_depth = [8]\n",
    "subsample = [0.7]\n",
    "colsample_bytree = [1.0]\n",
    "gamma = [1]\n",
    "reg_alpha =[0.01]\n",
    "\n",
    "param_grid = dict(learning_rate=learning_rate, n_estimators=n_estimators,max_depth=max_depth,subsample=subsample,colsample_bytree=colsample_bytree,gamma=gamma,reg_alpha=reg_alpha)\n",
    "kfold = KFold(n_splits=10, shuffle=True, random_state=1103)\n",
    "grid_search = GridSearchCV(xgr, param_grid, scoring=\"neg_mean_squared_log_error\", n_jobs=-1, cv=kfold)\n",
    "grid_result = grid_search.fit(X_train, y_train)"
   ]
  },
  {
   "cell_type": "code",
   "execution_count": 700,
   "metadata": {},
   "outputs": [
    {
     "data": {
      "text/plain": [
       "0.6452550938267"
      ]
     },
     "execution_count": 700,
     "metadata": {},
     "output_type": "execute_result"
    }
   ],
   "source": [
    "np.sqrt(mean_squared_error(grid_result.predict(X_test),y_test))\n"
   ]
  },
  {
   "cell_type": "code",
   "execution_count": 701,
   "metadata": {},
   "outputs": [],
   "source": [
    "submission['Price'] =np.expm1(grid_result.predict(test_scaled))\n",
    "submission.to_csv('/Users/louietran/Downloads/Machine Hack - Book Price Prediction/final_submission.csv')"
   ]
  },
  {
   "cell_type": "code",
   "execution_count": 149,
   "metadata": {},
   "outputs": [
    {
     "ename": "NameError",
     "evalue": "name 'grid_result' is not defined",
     "output_type": "error",
     "traceback": [
      "\u001b[0;31m---------------------------------------------------------------------------\u001b[0m",
      "\u001b[0;31mNameError\u001b[0m                                 Traceback (most recent call last)",
      "\u001b[0;32m<ipython-input-149-3e53edce8080>\u001b[0m in \u001b[0;36m<module>\u001b[0;34m\u001b[0m\n\u001b[1;32m      1\u001b[0m \u001b[0;31m# summarize results\u001b[0m\u001b[0;34m\u001b[0m\u001b[0;34m\u001b[0m\u001b[0;34m\u001b[0m\u001b[0m\n\u001b[0;32m----> 2\u001b[0;31m \u001b[0mprint\u001b[0m\u001b[0;34m(\u001b[0m\u001b[0;34m\"Best: %f using %s\"\u001b[0m \u001b[0;34m%\u001b[0m \u001b[0;34m(\u001b[0m\u001b[0mgrid_result\u001b[0m\u001b[0;34m.\u001b[0m\u001b[0mbest_score_\u001b[0m\u001b[0;34m,\u001b[0m \u001b[0mgrid_result\u001b[0m\u001b[0;34m.\u001b[0m\u001b[0mbest_params_\u001b[0m\u001b[0;34m)\u001b[0m\u001b[0;34m)\u001b[0m\u001b[0;34m\u001b[0m\u001b[0;34m\u001b[0m\u001b[0m\n\u001b[0m\u001b[1;32m      3\u001b[0m \u001b[0mmeans\u001b[0m \u001b[0;34m=\u001b[0m \u001b[0mgrid_result\u001b[0m\u001b[0;34m.\u001b[0m\u001b[0mcv_results_\u001b[0m\u001b[0;34m[\u001b[0m\u001b[0;34m'mean_test_score'\u001b[0m\u001b[0;34m]\u001b[0m\u001b[0;34m\u001b[0m\u001b[0;34m\u001b[0m\u001b[0m\n\u001b[1;32m      4\u001b[0m \u001b[0mstds\u001b[0m \u001b[0;34m=\u001b[0m \u001b[0mgrid_result\u001b[0m\u001b[0;34m.\u001b[0m\u001b[0mcv_results_\u001b[0m\u001b[0;34m[\u001b[0m\u001b[0;34m'std_test_score'\u001b[0m\u001b[0;34m]\u001b[0m\u001b[0;34m\u001b[0m\u001b[0;34m\u001b[0m\u001b[0m\n\u001b[1;32m      5\u001b[0m \u001b[0mparams\u001b[0m \u001b[0;34m=\u001b[0m \u001b[0mgrid_result\u001b[0m\u001b[0;34m.\u001b[0m\u001b[0mcv_results_\u001b[0m\u001b[0;34m[\u001b[0m\u001b[0;34m'params'\u001b[0m\u001b[0;34m]\u001b[0m\u001b[0;34m\u001b[0m\u001b[0;34m\u001b[0m\u001b[0m\n",
      "\u001b[0;31mNameError\u001b[0m: name 'grid_result' is not defined"
     ]
    }
   ],
   "source": [
    "# summarize results\n",
    "print(\"Best: %f using %s\" % (grid_result.best_score_, grid_result.best_params_))\n",
    "means = grid_result.cv_results_['mean_test_score']\n",
    "stds = grid_result.cv_results_['std_test_score']\n",
    "params = grid_result.cv_results_['params']\n",
    "for mean, stdev, param in zip(means, stds, params):\n",
    "\tprint(\"%f (%f) with: %r\" % (mean, stdev, param))\n",
    "    "
   ]
  },
  {
   "cell_type": "code",
   "execution_count": 545,
   "metadata": {},
   "outputs": [],
   "source": [
    "best_model = xgr_cv.best_estimator_"
   ]
  },
  {
   "cell_type": "code",
   "execution_count": 546,
   "metadata": {},
   "outputs": [],
   "source": [
    "y_pred_xgr_tuned = best_model.predict(X_test)"
   ]
  },
  {
   "cell_type": "code",
   "execution_count": 547,
   "metadata": {},
   "outputs": [
    {
     "data": {
      "text/plain": [
       "0.655882918109153"
      ]
     },
     "execution_count": 547,
     "metadata": {},
     "output_type": "execute_result"
    }
   ],
   "source": [
    "np.sqrt(mean_squared_error(y_pred_xgr_tuned,y_test))"
   ]
  },
  {
   "cell_type": "code",
   "execution_count": 548,
   "metadata": {},
   "outputs": [],
   "source": [
    "test_pred_xgr_tuned= np.expm1(xgr_cv.predict(test_scaled))"
   ]
  },
  {
   "cell_type": "code",
   "execution_count": 549,
   "metadata": {},
   "outputs": [],
   "source": [
    "submission['Price'] =test_pred_xgr_tuned\n",
    "submission.to_csv('/Users/louietran/Downloads/Machine Hack - Book Price Prediction/final_submission.csv')"
   ]
  },
  {
   "cell_type": "code",
   "execution_count": 166,
   "metadata": {},
   "outputs": [],
   "source": [
    "xgr_score_tuned = 0.73089"
   ]
  },
  {
   "cell_type": "code",
   "execution_count": 175,
   "metadata": {},
   "outputs": [
    {
     "name": "stdout",
     "output_type": "stream",
     "text": [
      "0.048\n"
     ]
    }
   ],
   "source": [
    "difference = np.round((xgr_score_tuned - rf_score_tuned)*100,3)\n",
    "print(difference)"
   ]
  },
  {
   "cell_type": "markdown",
   "metadata": {},
   "source": [
    "## Conclusion\n",
    "\n",
    "\n",
    "Based on the results of running two different models and with and without hyperparameters tuning, the XGBoostRegressor beats RandomForestClassifier by 0.048%. While untuned XGBoost performs worse than that of RandomForest, tuned XGBoost does produce a better result. In order to improve the accuracy of my models prediction even more, a more efficient way of processing the raw data needs to be implemented. One thing i could have done or attempted to was to keep the book names or authors' name since they might contribute somehow to the price of each book. Another approach can be find a more accurate way to interpret the synopsis. If there were information about authors' gender, age or popularity level, the prices might have been predicted more correctly."
   ]
  },
  {
   "cell_type": "code",
   "execution_count": null,
   "metadata": {},
   "outputs": [],
   "source": []
  }
 ],
 "metadata": {
  "kernelspec": {
   "display_name": "Python 3",
   "language": "python",
   "name": "python3"
  },
  "language_info": {
   "codemirror_mode": {
    "name": "ipython",
    "version": 3
   },
   "file_extension": ".py",
   "mimetype": "text/x-python",
   "name": "python",
   "nbconvert_exporter": "python",
   "pygments_lexer": "ipython3",
   "version": "3.8.5"
  }
 },
 "nbformat": 4,
 "nbformat_minor": 4
}
